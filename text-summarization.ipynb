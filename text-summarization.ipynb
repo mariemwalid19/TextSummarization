{
 "cells": [
  {
   "cell_type": "markdown",
   "metadata": {},
   "source": [
    "# CNN Daily Mail Summarization using Google Pegasus-xum"
   ]
  },
  {
   "cell_type": "markdown",
   "metadata": {},
   "source": [
    "Text summarization is a subfield of Natural Language Processing (NLP) and plays a crucial role in information retrieval, content analysis, and user interaction.\n",
    "\n",
    "There are two main types of text summarization:\n",
    "\n",
    "1. Extractive Summarization:\n",
    "\n",
    "    * Selects and combines the most important sentences or phrases from the original text.\n",
    "\n",
    "    * It doesn't generate new sentences, just pulls from the existing content.\n",
    "\n",
    "\n",
    "2.  Abstractive Summarization:\n",
    "\n",
    "    * Generates new sentences to convey the key ideas, similar to how humans summarize.\n",
    "\n",
    "    * Involves rephrasing and paraphrasing.\n",
    "\n",
    "\n",
    "\n",
    "\n",
    "\n",
    "The CNN / DailyMail Dataset is an English-language dataset containing just over 300k unique news articles as written by journalists at CNN and the Daily Mail. The current version supports both extractive and abstractive summarization."
   ]
  },
  {
   "cell_type": "markdown",
   "metadata": {},
   "source": [
    "# Setting up The Notebook and Installing Required Dependcies"
   ]
  },
  {
   "cell_type": "code",
   "execution_count": 1,
   "metadata": {
    "execution": {
     "iopub.execute_input": "2025-07-29T21:49:53.158352Z",
     "iopub.status.busy": "2025-07-29T21:49:53.158060Z",
     "iopub.status.idle": "2025-07-29T21:51:14.136430Z",
     "shell.execute_reply": "2025-07-29T21:51:14.135427Z",
     "shell.execute_reply.started": "2025-07-29T21:49:53.158328Z"
    },
    "trusted": true
   },
   "outputs": [
    {
     "name": "stdout",
     "output_type": "stream",
     "text": [
      "Collecting evaluate\n",
      "  Downloading evaluate-0.4.5-py3-none-any.whl.metadata (9.5 kB)\n",
      "Collecting bert_score\n",
      "  Downloading bert_score-0.3.13-py3-none-any.whl.metadata (15 kB)\n",
      "Collecting rouge_score\n",
      "  Downloading rouge_score-0.1.2.tar.gz (17 kB)\n",
      "  Preparing metadata (setup.py) ... \u001b[?25l\u001b[?25hdone\n",
      "Requirement already satisfied: datasets>=2.0.0 in /usr/local/lib/python3.11/dist-packages (from evaluate) (3.6.0)\n",
      "Requirement already satisfied: numpy>=1.17 in /usr/local/lib/python3.11/dist-packages (from evaluate) (1.26.4)\n",
      "Requirement already satisfied: dill in /usr/local/lib/python3.11/dist-packages (from evaluate) (0.3.8)\n",
      "Requirement already satisfied: pandas in /usr/local/lib/python3.11/dist-packages (from evaluate) (2.2.3)\n",
      "Requirement already satisfied: requests>=2.19.0 in /usr/local/lib/python3.11/dist-packages (from evaluate) (2.32.4)\n",
      "Requirement already satisfied: tqdm>=4.62.1 in /usr/local/lib/python3.11/dist-packages (from evaluate) (4.67.1)\n",
      "Requirement already satisfied: xxhash in /usr/local/lib/python3.11/dist-packages (from evaluate) (3.5.0)\n",
      "Requirement already satisfied: multiprocess in /usr/local/lib/python3.11/dist-packages (from evaluate) (0.70.16)\n",
      "Requirement already satisfied: fsspec>=2021.05.0 in /usr/local/lib/python3.11/dist-packages (from fsspec[http]>=2021.05.0->evaluate) (2025.5.1)\n",
      "Requirement already satisfied: huggingface-hub>=0.7.0 in /usr/local/lib/python3.11/dist-packages (from evaluate) (0.33.1)\n",
      "Requirement already satisfied: packaging in /usr/local/lib/python3.11/dist-packages (from evaluate) (25.0)\n",
      "Requirement already satisfied: torch>=1.0.0 in /usr/local/lib/python3.11/dist-packages (from bert_score) (2.6.0+cu124)\n",
      "Requirement already satisfied: transformers>=3.0.0 in /usr/local/lib/python3.11/dist-packages (from bert_score) (4.52.4)\n",
      "Requirement already satisfied: matplotlib in /usr/local/lib/python3.11/dist-packages (from bert_score) (3.7.2)\n",
      "Requirement already satisfied: absl-py in /usr/local/lib/python3.11/dist-packages (from rouge_score) (1.4.0)\n",
      "Requirement already satisfied: nltk in /usr/local/lib/python3.11/dist-packages (from rouge_score) (3.9.1)\n",
      "Requirement already satisfied: six>=1.14.0 in /usr/local/lib/python3.11/dist-packages (from rouge_score) (1.17.0)\n",
      "Requirement already satisfied: filelock in /usr/local/lib/python3.11/dist-packages (from datasets>=2.0.0->evaluate) (3.18.0)\n",
      "Requirement already satisfied: pyarrow>=15.0.0 in /usr/local/lib/python3.11/dist-packages (from datasets>=2.0.0->evaluate) (19.0.1)\n",
      "Collecting fsspec>=2021.05.0 (from fsspec[http]>=2021.05.0->evaluate)\n",
      "  Downloading fsspec-2025.3.0-py3-none-any.whl.metadata (11 kB)\n",
      "Requirement already satisfied: pyyaml>=5.1 in /usr/local/lib/python3.11/dist-packages (from datasets>=2.0.0->evaluate) (6.0.2)\n",
      "Requirement already satisfied: aiohttp!=4.0.0a0,!=4.0.0a1 in /usr/local/lib/python3.11/dist-packages (from fsspec[http]>=2021.05.0->evaluate) (3.12.13)\n",
      "Requirement already satisfied: typing-extensions>=3.7.4.3 in /usr/local/lib/python3.11/dist-packages (from huggingface-hub>=0.7.0->evaluate) (4.14.0)\n",
      "Requirement already satisfied: hf-xet<2.0.0,>=1.1.2 in /usr/local/lib/python3.11/dist-packages (from huggingface-hub>=0.7.0->evaluate) (1.1.5)\n",
      "Requirement already satisfied: mkl_fft in /usr/local/lib/python3.11/dist-packages (from numpy>=1.17->evaluate) (1.3.8)\n",
      "Requirement already satisfied: mkl_random in /usr/local/lib/python3.11/dist-packages (from numpy>=1.17->evaluate) (1.2.4)\n",
      "Requirement already satisfied: mkl_umath in /usr/local/lib/python3.11/dist-packages (from numpy>=1.17->evaluate) (0.1.1)\n",
      "Requirement already satisfied: mkl in /usr/local/lib/python3.11/dist-packages (from numpy>=1.17->evaluate) (2025.2.0)\n",
      "Requirement already satisfied: tbb4py in /usr/local/lib/python3.11/dist-packages (from numpy>=1.17->evaluate) (2022.2.0)\n",
      "Requirement already satisfied: mkl-service in /usr/local/lib/python3.11/dist-packages (from numpy>=1.17->evaluate) (2.4.1)\n",
      "Requirement already satisfied: python-dateutil>=2.8.2 in /usr/local/lib/python3.11/dist-packages (from pandas->evaluate) (2.9.0.post0)\n",
      "Requirement already satisfied: pytz>=2020.1 in /usr/local/lib/python3.11/dist-packages (from pandas->evaluate) (2025.2)\n",
      "Requirement already satisfied: tzdata>=2022.7 in /usr/local/lib/python3.11/dist-packages (from pandas->evaluate) (2025.2)\n",
      "Requirement already satisfied: charset_normalizer<4,>=2 in /usr/local/lib/python3.11/dist-packages (from requests>=2.19.0->evaluate) (3.4.2)\n",
      "Requirement already satisfied: idna<4,>=2.5 in /usr/local/lib/python3.11/dist-packages (from requests>=2.19.0->evaluate) (3.10)\n",
      "Requirement already satisfied: urllib3<3,>=1.21.1 in /usr/local/lib/python3.11/dist-packages (from requests>=2.19.0->evaluate) (2.5.0)\n",
      "Requirement already satisfied: certifi>=2017.4.17 in /usr/local/lib/python3.11/dist-packages (from requests>=2.19.0->evaluate) (2025.6.15)\n",
      "Requirement already satisfied: networkx in /usr/local/lib/python3.11/dist-packages (from torch>=1.0.0->bert_score) (3.5)\n",
      "Requirement already satisfied: jinja2 in /usr/local/lib/python3.11/dist-packages (from torch>=1.0.0->bert_score) (3.1.6)\n",
      "Collecting nvidia-cuda-nvrtc-cu12==12.4.127 (from torch>=1.0.0->bert_score)\n",
      "  Downloading nvidia_cuda_nvrtc_cu12-12.4.127-py3-none-manylinux2014_x86_64.whl.metadata (1.5 kB)\n",
      "Collecting nvidia-cuda-runtime-cu12==12.4.127 (from torch>=1.0.0->bert_score)\n",
      "  Downloading nvidia_cuda_runtime_cu12-12.4.127-py3-none-manylinux2014_x86_64.whl.metadata (1.5 kB)\n",
      "Collecting nvidia-cuda-cupti-cu12==12.4.127 (from torch>=1.0.0->bert_score)\n",
      "  Downloading nvidia_cuda_cupti_cu12-12.4.127-py3-none-manylinux2014_x86_64.whl.metadata (1.6 kB)\n",
      "Collecting nvidia-cudnn-cu12==9.1.0.70 (from torch>=1.0.0->bert_score)\n",
      "  Downloading nvidia_cudnn_cu12-9.1.0.70-py3-none-manylinux2014_x86_64.whl.metadata (1.6 kB)\n",
      "Collecting nvidia-cublas-cu12==12.4.5.8 (from torch>=1.0.0->bert_score)\n",
      "  Downloading nvidia_cublas_cu12-12.4.5.8-py3-none-manylinux2014_x86_64.whl.metadata (1.5 kB)\n",
      "Collecting nvidia-cufft-cu12==11.2.1.3 (from torch>=1.0.0->bert_score)\n",
      "  Downloading nvidia_cufft_cu12-11.2.1.3-py3-none-manylinux2014_x86_64.whl.metadata (1.5 kB)\n",
      "Collecting nvidia-curand-cu12==10.3.5.147 (from torch>=1.0.0->bert_score)\n",
      "  Downloading nvidia_curand_cu12-10.3.5.147-py3-none-manylinux2014_x86_64.whl.metadata (1.5 kB)\n",
      "Collecting nvidia-cusolver-cu12==11.6.1.9 (from torch>=1.0.0->bert_score)\n",
      "  Downloading nvidia_cusolver_cu12-11.6.1.9-py3-none-manylinux2014_x86_64.whl.metadata (1.6 kB)\n",
      "Collecting nvidia-cusparse-cu12==12.3.1.170 (from torch>=1.0.0->bert_score)\n",
      "  Downloading nvidia_cusparse_cu12-12.3.1.170-py3-none-manylinux2014_x86_64.whl.metadata (1.6 kB)\n",
      "Requirement already satisfied: nvidia-cusparselt-cu12==0.6.2 in /usr/local/lib/python3.11/dist-packages (from torch>=1.0.0->bert_score) (0.6.2)\n",
      "Requirement already satisfied: nvidia-nccl-cu12==2.21.5 in /usr/local/lib/python3.11/dist-packages (from torch>=1.0.0->bert_score) (2.21.5)\n",
      "Requirement already satisfied: nvidia-nvtx-cu12==12.4.127 in /usr/local/lib/python3.11/dist-packages (from torch>=1.0.0->bert_score) (12.4.127)\n",
      "Collecting nvidia-nvjitlink-cu12==12.4.127 (from torch>=1.0.0->bert_score)\n",
      "  Downloading nvidia_nvjitlink_cu12-12.4.127-py3-none-manylinux2014_x86_64.whl.metadata (1.5 kB)\n",
      "Requirement already satisfied: triton==3.2.0 in /usr/local/lib/python3.11/dist-packages (from torch>=1.0.0->bert_score) (3.2.0)\n",
      "Requirement already satisfied: sympy==1.13.1 in /usr/local/lib/python3.11/dist-packages (from torch>=1.0.0->bert_score) (1.13.1)\n",
      "Requirement already satisfied: mpmath<1.4,>=1.1.0 in /usr/local/lib/python3.11/dist-packages (from sympy==1.13.1->torch>=1.0.0->bert_score) (1.3.0)\n",
      "Requirement already satisfied: regex!=2019.12.17 in /usr/local/lib/python3.11/dist-packages (from transformers>=3.0.0->bert_score) (2024.11.6)\n",
      "Requirement already satisfied: tokenizers<0.22,>=0.21 in /usr/local/lib/python3.11/dist-packages (from transformers>=3.0.0->bert_score) (0.21.2)\n",
      "Requirement already satisfied: safetensors>=0.4.3 in /usr/local/lib/python3.11/dist-packages (from transformers>=3.0.0->bert_score) (0.5.3)\n",
      "Requirement already satisfied: contourpy>=1.0.1 in /usr/local/lib/python3.11/dist-packages (from matplotlib->bert_score) (1.3.2)\n",
      "Requirement already satisfied: cycler>=0.10 in /usr/local/lib/python3.11/dist-packages (from matplotlib->bert_score) (0.12.1)\n",
      "Requirement already satisfied: fonttools>=4.22.0 in /usr/local/lib/python3.11/dist-packages (from matplotlib->bert_score) (4.58.4)\n",
      "Requirement already satisfied: kiwisolver>=1.0.1 in /usr/local/lib/python3.11/dist-packages (from matplotlib->bert_score) (1.4.8)\n",
      "Requirement already satisfied: pillow>=6.2.0 in /usr/local/lib/python3.11/dist-packages (from matplotlib->bert_score) (11.2.1)\n",
      "Requirement already satisfied: pyparsing<3.1,>=2.3.1 in /usr/local/lib/python3.11/dist-packages (from matplotlib->bert_score) (3.0.9)\n",
      "Requirement already satisfied: click in /usr/local/lib/python3.11/dist-packages (from nltk->rouge_score) (8.2.1)\n",
      "Requirement already satisfied: joblib in /usr/local/lib/python3.11/dist-packages (from nltk->rouge_score) (1.5.1)\n",
      "Requirement already satisfied: aiohappyeyeballs>=2.5.0 in /usr/local/lib/python3.11/dist-packages (from aiohttp!=4.0.0a0,!=4.0.0a1->fsspec[http]>=2021.05.0->evaluate) (2.6.1)\n",
      "Requirement already satisfied: aiosignal>=1.1.2 in /usr/local/lib/python3.11/dist-packages (from aiohttp!=4.0.0a0,!=4.0.0a1->fsspec[http]>=2021.05.0->evaluate) (1.3.2)\n",
      "Requirement already satisfied: attrs>=17.3.0 in /usr/local/lib/python3.11/dist-packages (from aiohttp!=4.0.0a0,!=4.0.0a1->fsspec[http]>=2021.05.0->evaluate) (25.3.0)\n",
      "Requirement already satisfied: frozenlist>=1.1.1 in /usr/local/lib/python3.11/dist-packages (from aiohttp!=4.0.0a0,!=4.0.0a1->fsspec[http]>=2021.05.0->evaluate) (1.7.0)\n",
      "Requirement already satisfied: multidict<7.0,>=4.5 in /usr/local/lib/python3.11/dist-packages (from aiohttp!=4.0.0a0,!=4.0.0a1->fsspec[http]>=2021.05.0->evaluate) (6.6.3)\n",
      "Requirement already satisfied: propcache>=0.2.0 in /usr/local/lib/python3.11/dist-packages (from aiohttp!=4.0.0a0,!=4.0.0a1->fsspec[http]>=2021.05.0->evaluate) (0.3.2)\n",
      "Requirement already satisfied: yarl<2.0,>=1.17.0 in /usr/local/lib/python3.11/dist-packages (from aiohttp!=4.0.0a0,!=4.0.0a1->fsspec[http]>=2021.05.0->evaluate) (1.20.1)\n",
      "Requirement already satisfied: MarkupSafe>=2.0 in /usr/local/lib/python3.11/dist-packages (from jinja2->torch>=1.0.0->bert_score) (3.0.2)\n",
      "Requirement already satisfied: intel-openmp<2026,>=2024 in /usr/local/lib/python3.11/dist-packages (from mkl->numpy>=1.17->evaluate) (2024.2.0)\n",
      "Requirement already satisfied: tbb==2022.* in /usr/local/lib/python3.11/dist-packages (from mkl->numpy>=1.17->evaluate) (2022.2.0)\n",
      "Requirement already satisfied: tcmlib==1.* in /usr/local/lib/python3.11/dist-packages (from tbb==2022.*->mkl->numpy>=1.17->evaluate) (1.4.0)\n",
      "Requirement already satisfied: intel-cmplr-lib-rt in /usr/local/lib/python3.11/dist-packages (from mkl_umath->numpy>=1.17->evaluate) (2024.2.0)\n",
      "Requirement already satisfied: intel-cmplr-lib-ur==2024.2.0 in /usr/local/lib/python3.11/dist-packages (from intel-openmp<2026,>=2024->mkl->numpy>=1.17->evaluate) (2024.2.0)\n",
      "Downloading evaluate-0.4.5-py3-none-any.whl (84 kB)\n",
      "\u001b[2K   \u001b[90m━━━━━━━━━━━━━━━━━━━━━━━━━━━━━━━━━━━━━━━━\u001b[0m \u001b[32m84.1/84.1 kB\u001b[0m \u001b[31m3.3 MB/s\u001b[0m eta \u001b[36m0:00:00\u001b[0m\n",
      "\u001b[?25hDownloading bert_score-0.3.13-py3-none-any.whl (61 kB)\n",
      "\u001b[2K   \u001b[90m━━━━━━━━━━━━━━━━━━━━━━━━━━━━━━━━━━━━━━━━\u001b[0m \u001b[32m61.1/61.1 kB\u001b[0m \u001b[31m3.6 MB/s\u001b[0m eta \u001b[36m0:00:00\u001b[0m\n",
      "\u001b[?25hDownloading fsspec-2025.3.0-py3-none-any.whl (193 kB)\n",
      "\u001b[2K   \u001b[90m━━━━━━━━━━━━━━━━━━━━━━━━━━━━━━━━━━━━━━━━\u001b[0m \u001b[32m193.6/193.6 kB\u001b[0m \u001b[31m8.0 MB/s\u001b[0m eta \u001b[36m0:00:00\u001b[0m\n",
      "\u001b[?25hDownloading nvidia_cublas_cu12-12.4.5.8-py3-none-manylinux2014_x86_64.whl (363.4 MB)\n",
      "\u001b[2K   \u001b[90m━━━━━━━━━━━━━━━━━━━━━━━━━━━━━━━━━━━━━━━━\u001b[0m \u001b[32m363.4/363.4 MB\u001b[0m \u001b[31m4.7 MB/s\u001b[0m eta \u001b[36m0:00:00\u001b[0m:00:01\u001b[0m00:01\u001b[0m\n",
      "\u001b[?25hDownloading nvidia_cuda_cupti_cu12-12.4.127-py3-none-manylinux2014_x86_64.whl (13.8 MB)\n",
      "\u001b[2K   \u001b[90m━━━━━━━━━━━━━━━━━━━━━━━━━━━━━━━━━━━━━━━━\u001b[0m \u001b[32m13.8/13.8 MB\u001b[0m \u001b[31m74.6 MB/s\u001b[0m eta \u001b[36m0:00:00\u001b[0m:00:01\u001b[0m0:01\u001b[0m\n",
      "\u001b[?25hDownloading nvidia_cuda_nvrtc_cu12-12.4.127-py3-none-manylinux2014_x86_64.whl (24.6 MB)\n",
      "\u001b[2K   \u001b[90m━━━━━━━━━━━━━━━━━━━━━━━━━━━━━━━━━━━━━━━━\u001b[0m \u001b[32m24.6/24.6 MB\u001b[0m \u001b[31m58.7 MB/s\u001b[0m eta \u001b[36m0:00:00\u001b[0m:00:01\u001b[0m00:01\u001b[0m\n",
      "\u001b[?25hDownloading nvidia_cuda_runtime_cu12-12.4.127-py3-none-manylinux2014_x86_64.whl (883 kB)\n",
      "\u001b[2K   \u001b[90m━━━━━━━━━━━━━━━━━━━━━━━━━━━━━━━━━━━━━━━━\u001b[0m \u001b[32m883.7/883.7 kB\u001b[0m \u001b[31m39.9 MB/s\u001b[0m eta \u001b[36m0:00:00\u001b[0m\n",
      "\u001b[?25hDownloading nvidia_cudnn_cu12-9.1.0.70-py3-none-manylinux2014_x86_64.whl (664.8 MB)\n",
      "\u001b[2K   \u001b[90m━━━━━━━━━━━━━━━━━━━━━━━━━━━━━━━━━━━━━━━━\u001b[0m \u001b[32m664.8/664.8 MB\u001b[0m \u001b[31m2.4 MB/s\u001b[0m eta \u001b[36m0:00:00\u001b[0m:00:01\u001b[0m00:01\u001b[0m\n",
      "\u001b[?25hDownloading nvidia_cufft_cu12-11.2.1.3-py3-none-manylinux2014_x86_64.whl (211.5 MB)\n",
      "\u001b[2K   \u001b[90m━━━━━━━━━━━━━━━━━━━━━━━━━━━━━━━━━━━━━━━━\u001b[0m \u001b[32m211.5/211.5 MB\u001b[0m \u001b[31m7.0 MB/s\u001b[0m eta \u001b[36m0:00:00\u001b[0m:00:01\u001b[0m00:01\u001b[0m\n",
      "\u001b[?25hDownloading nvidia_curand_cu12-10.3.5.147-py3-none-manylinux2014_x86_64.whl (56.3 MB)\n",
      "\u001b[2K   \u001b[90m━━━━━━━━━━━━━━━━━━━━━━━━━━━━━━━━━━━━━━━━\u001b[0m \u001b[32m56.3/56.3 MB\u001b[0m \u001b[31m17.0 MB/s\u001b[0m eta \u001b[36m0:00:00\u001b[0m:00:01\u001b[0m00:01\u001b[0m\n",
      "\u001b[?25hDownloading nvidia_cusolver_cu12-11.6.1.9-py3-none-manylinux2014_x86_64.whl (127.9 MB)\n",
      "\u001b[2K   \u001b[90m━━━━━━━━━━━━━━━━━━━━━━━━━━━━━━━━━━━━━━━━\u001b[0m \u001b[32m127.9/127.9 MB\u001b[0m \u001b[31m12.3 MB/s\u001b[0m eta \u001b[36m0:00:00\u001b[0m00:01\u001b[0m00:01\u001b[0m\n",
      "\u001b[?25hDownloading nvidia_cusparse_cu12-12.3.1.170-py3-none-manylinux2014_x86_64.whl (207.5 MB)\n",
      "\u001b[2K   \u001b[90m━━━━━━━━━━━━━━━━━━━━━━━━━━━━━━━━━━━━━━━━\u001b[0m \u001b[32m207.5/207.5 MB\u001b[0m \u001b[31m7.3 MB/s\u001b[0m eta \u001b[36m0:00:00\u001b[0m:00:01\u001b[0m00:01\u001b[0m\n",
      "\u001b[?25hDownloading nvidia_nvjitlink_cu12-12.4.127-py3-none-manylinux2014_x86_64.whl (21.1 MB)\n",
      "\u001b[2K   \u001b[90m━━━━━━━━━━━━━━━━━━━━━━━━━━━━━━━━━━━━━━━━\u001b[0m \u001b[32m21.1/21.1 MB\u001b[0m \u001b[31m7.4 MB/s\u001b[0m eta \u001b[36m0:00:00\u001b[0m0:00:01\u001b[0m00:01\u001b[0m\n",
      "\u001b[?25hBuilding wheels for collected packages: rouge_score\n",
      "  Building wheel for rouge_score (setup.py) ... \u001b[?25l\u001b[?25hdone\n",
      "  Created wheel for rouge_score: filename=rouge_score-0.1.2-py3-none-any.whl size=24934 sha256=f7a6753329223689489151476d6fe69d5fea800a3207511a4d3fca1a30afefc7\n",
      "  Stored in directory: /root/.cache/pip/wheels/1e/19/43/8a442dc83660ca25e163e1bd1f89919284ab0d0c1475475148\n",
      "Successfully built rouge_score\n",
      "Installing collected packages: nvidia-nvjitlink-cu12, nvidia-curand-cu12, nvidia-cufft-cu12, nvidia-cuda-runtime-cu12, nvidia-cuda-nvrtc-cu12, nvidia-cuda-cupti-cu12, nvidia-cublas-cu12, fsspec, nvidia-cusparse-cu12, nvidia-cudnn-cu12, nvidia-cusolver-cu12, rouge_score, evaluate, bert_score\n",
      "  Attempting uninstall: nvidia-nvjitlink-cu12\n",
      "    Found existing installation: nvidia-nvjitlink-cu12 12.5.82\n",
      "    Uninstalling nvidia-nvjitlink-cu12-12.5.82:\n",
      "      Successfully uninstalled nvidia-nvjitlink-cu12-12.5.82\n",
      "  Attempting uninstall: nvidia-curand-cu12\n",
      "    Found existing installation: nvidia-curand-cu12 10.3.6.82\n",
      "    Uninstalling nvidia-curand-cu12-10.3.6.82:\n",
      "      Successfully uninstalled nvidia-curand-cu12-10.3.6.82\n",
      "  Attempting uninstall: nvidia-cufft-cu12\n",
      "    Found existing installation: nvidia-cufft-cu12 11.2.3.61\n",
      "    Uninstalling nvidia-cufft-cu12-11.2.3.61:\n",
      "      Successfully uninstalled nvidia-cufft-cu12-11.2.3.61\n",
      "  Attempting uninstall: nvidia-cuda-runtime-cu12\n",
      "    Found existing installation: nvidia-cuda-runtime-cu12 12.5.82\n",
      "    Uninstalling nvidia-cuda-runtime-cu12-12.5.82:\n",
      "      Successfully uninstalled nvidia-cuda-runtime-cu12-12.5.82\n",
      "  Attempting uninstall: nvidia-cuda-nvrtc-cu12\n",
      "    Found existing installation: nvidia-cuda-nvrtc-cu12 12.5.82\n",
      "    Uninstalling nvidia-cuda-nvrtc-cu12-12.5.82:\n",
      "      Successfully uninstalled nvidia-cuda-nvrtc-cu12-12.5.82\n",
      "  Attempting uninstall: nvidia-cuda-cupti-cu12\n",
      "    Found existing installation: nvidia-cuda-cupti-cu12 12.5.82\n",
      "    Uninstalling nvidia-cuda-cupti-cu12-12.5.82:\n",
      "      Successfully uninstalled nvidia-cuda-cupti-cu12-12.5.82\n",
      "  Attempting uninstall: nvidia-cublas-cu12\n",
      "    Found existing installation: nvidia-cublas-cu12 12.5.3.2\n",
      "    Uninstalling nvidia-cublas-cu12-12.5.3.2:\n",
      "      Successfully uninstalled nvidia-cublas-cu12-12.5.3.2\n",
      "  Attempting uninstall: fsspec\n",
      "    Found existing installation: fsspec 2025.5.1\n",
      "    Uninstalling fsspec-2025.5.1:\n",
      "      Successfully uninstalled fsspec-2025.5.1\n",
      "  Attempting uninstall: nvidia-cusparse-cu12\n",
      "    Found existing installation: nvidia-cusparse-cu12 12.5.1.3\n",
      "    Uninstalling nvidia-cusparse-cu12-12.5.1.3:\n",
      "      Successfully uninstalled nvidia-cusparse-cu12-12.5.1.3\n",
      "  Attempting uninstall: nvidia-cudnn-cu12\n",
      "    Found existing installation: nvidia-cudnn-cu12 9.3.0.75\n",
      "    Uninstalling nvidia-cudnn-cu12-9.3.0.75:\n",
      "      Successfully uninstalled nvidia-cudnn-cu12-9.3.0.75\n",
      "  Attempting uninstall: nvidia-cusolver-cu12\n",
      "    Found existing installation: nvidia-cusolver-cu12 11.6.3.83\n",
      "    Uninstalling nvidia-cusolver-cu12-11.6.3.83:\n",
      "      Successfully uninstalled nvidia-cusolver-cu12-11.6.3.83\n",
      "\u001b[31mERROR: pip's dependency resolver does not currently take into account all the packages that are installed. This behaviour is the source of the following dependency conflicts.\n",
      "bigframes 2.8.0 requires google-cloud-bigquery-storage<3.0.0,>=2.30.0, which is not installed.\n",
      "cesium 0.12.4 requires numpy<3.0,>=2.0, but you have numpy 1.26.4 which is incompatible.\n",
      "gcsfs 2025.3.2 requires fsspec==2025.3.2, but you have fsspec 2025.3.0 which is incompatible.\n",
      "bigframes 2.8.0 requires google-cloud-bigquery[bqstorage,pandas]>=3.31.0, but you have google-cloud-bigquery 3.25.0 which is incompatible.\n",
      "bigframes 2.8.0 requires rich<14,>=12.4.4, but you have rich 14.0.0 which is incompatible.\u001b[0m\u001b[31m\n",
      "\u001b[0mSuccessfully installed bert_score-0.3.13 evaluate-0.4.5 fsspec-2025.3.0 nvidia-cublas-cu12-12.4.5.8 nvidia-cuda-cupti-cu12-12.4.127 nvidia-cuda-nvrtc-cu12-12.4.127 nvidia-cuda-runtime-cu12-12.4.127 nvidia-cudnn-cu12-9.1.0.70 nvidia-cufft-cu12-11.2.1.3 nvidia-curand-cu12-10.3.5.147 nvidia-cusolver-cu12-11.6.1.9 nvidia-cusparse-cu12-12.3.1.170 nvidia-nvjitlink-cu12-12.4.127 rouge_score-0.1.2\n",
      "Note: you may need to restart the kernel to use updated packages.\n"
     ]
    }
   ],
   "source": [
    "pip install evaluate bert_score rouge_score"
   ]
  },
  {
   "cell_type": "code",
   "execution_count": 2,
   "metadata": {
    "execution": {
     "iopub.execute_input": "2025-07-29T21:51:14.138702Z",
     "iopub.status.busy": "2025-07-29T21:51:14.138376Z",
     "iopub.status.idle": "2025-07-29T21:51:39.741108Z",
     "shell.execute_reply": "2025-07-29T21:51:39.739778Z",
     "shell.execute_reply.started": "2025-07-29T21:51:14.138665Z"
    },
    "trusted": true
   },
   "outputs": [
    {
     "name": "stdout",
     "output_type": "stream",
     "text": [
      "Requirement already satisfied: nvidia-cudnn-cu12 in /usr/local/lib/python3.11/dist-packages (9.1.0.70)\n",
      "Collecting nvidia-cudnn-cu12\n",
      "  Downloading nvidia_cudnn_cu12-9.11.0.98-py3-none-manylinux_2_27_x86_64.whl.metadata (1.8 kB)\n",
      "Requirement already satisfied: nvidia-cublas-cu12 in /usr/local/lib/python3.11/dist-packages (from nvidia-cudnn-cu12) (12.4.5.8)\n",
      "Downloading nvidia_cudnn_cu12-9.11.0.98-py3-none-manylinux_2_27_x86_64.whl (571.7 MB)\n",
      "\u001b[2K   \u001b[90m━━━━━━━━━━━━━━━━━━━━━━━━━━━━━━━━━━━━━━━━\u001b[0m \u001b[32m571.7/571.7 MB\u001b[0m \u001b[31m2.8 MB/s\u001b[0m eta \u001b[36m0:00:00\u001b[0m:00:01\u001b[0m00:01\u001b[0m\n",
      "\u001b[?25hInstalling collected packages: nvidia-cudnn-cu12\n",
      "  Attempting uninstall: nvidia-cudnn-cu12\n",
      "    Found existing installation: nvidia-cudnn-cu12 9.1.0.70\n",
      "    Uninstalling nvidia-cudnn-cu12-9.1.0.70:\n",
      "      Successfully uninstalled nvidia-cudnn-cu12-9.1.0.70\n",
      "\u001b[31mERROR: pip's dependency resolver does not currently take into account all the packages that are installed. This behaviour is the source of the following dependency conflicts.\n",
      "torch 2.6.0+cu124 requires nvidia-cudnn-cu12==9.1.0.70; platform_system == \"Linux\" and platform_machine == \"x86_64\", but you have nvidia-cudnn-cu12 9.11.0.98 which is incompatible.\u001b[0m\u001b[31m\n",
      "\u001b[0mSuccessfully installed nvidia-cudnn-cu12-9.11.0.98\n",
      "Note: you may need to restart the kernel to use updated packages.\n"
     ]
    }
   ],
   "source": [
    "pip install --upgrade nvidia-cudnn-cu12"
   ]
  },
  {
   "cell_type": "code",
   "execution_count": 3,
   "metadata": {
    "_cell_guid": "b1076dfc-b9ad-4769-8c92-a6c4dae69d19",
    "_uuid": "8f2839f25d086af736a60e9eeb907d3b93b6e0e5",
    "execution": {
     "iopub.execute_input": "2025-07-29T21:51:39.742858Z",
     "iopub.status.busy": "2025-07-29T21:51:39.742531Z",
     "iopub.status.idle": "2025-07-29T21:52:11.920158Z",
     "shell.execute_reply": "2025-07-29T21:52:11.919173Z",
     "shell.execute_reply.started": "2025-07-29T21:51:39.742817Z"
    },
    "trusted": true
   },
   "outputs": [
    {
     "name": "stderr",
     "output_type": "stream",
     "text": [
      "2025-07-29 21:51:41.601769: E external/local_xla/xla/stream_executor/cuda/cuda_fft.cc:477] Unable to register cuFFT factory: Attempting to register factory for plugin cuFFT when one has already been registered\n",
      "WARNING: All log messages before absl::InitializeLog() is called are written to STDERR\n",
      "E0000 00:00:1753825901.801353      36 cuda_dnn.cc:8310] Unable to register cuDNN factory: Attempting to register factory for plugin cuDNN when one has already been registered\n",
      "E0000 00:00:1753825901.863560      36 cuda_blas.cc:1418] Unable to register cuBLAS factory: Attempting to register factory for plugin cuBLAS when one has already been registered\n"
     ]
    },
    {
     "name": "stdout",
     "output_type": "stream",
     "text": [
      "/kaggle/input/newspaper-text-summarization-cnn-dailymail/cnn_dailymail/validation.csv\n",
      "/kaggle/input/newspaper-text-summarization-cnn-dailymail/cnn_dailymail/train.csv\n",
      "/kaggle/input/newspaper-text-summarization-cnn-dailymail/cnn_dailymail/test.csv\n"
     ]
    }
   ],
   "source": [
    "import numpy as np \n",
    "import pandas as pd \n",
    "import matplotlib.pyplot as plt\n",
    "import tensorflow as tf\n",
    "from transformers import PegasusTokenizer, TFPegasusForConditionalGeneration, pipeline\n",
    "from datasets import Dataset\n",
    "from evaluate import load\n",
    "import time\n",
    "import os\n",
    "\n",
    "\n",
    "for dirname, _, filenames in os.walk('/kaggle/input'):\n",
    "    for filename in filenames:\n",
    "        print(os.path.join(dirname, filename))\n"
   ]
  },
  {
   "cell_type": "code",
   "execution_count": 4,
   "metadata": {
    "execution": {
     "iopub.execute_input": "2025-07-29T21:52:11.923142Z",
     "iopub.status.busy": "2025-07-29T21:52:11.922428Z",
     "iopub.status.idle": "2025-07-29T21:52:11.939339Z",
     "shell.execute_reply": "2025-07-29T21:52:11.938188Z",
     "shell.execute_reply.started": "2025-07-29T21:52:11.923116Z"
    },
    "trusted": true
   },
   "outputs": [
    {
     "data": {
      "text/plain": [
       "[PhysicalDevice(name='/physical_device:GPU:0', device_type='GPU'),\n",
       " PhysicalDevice(name='/physical_device:GPU:1', device_type='GPU')]"
      ]
     },
     "execution_count": 4,
     "metadata": {},
     "output_type": "execute_result"
    }
   ],
   "source": [
    "tf.config.list_physical_devices('GPU')"
   ]
  },
  {
   "cell_type": "code",
   "execution_count": 5,
   "metadata": {
    "execution": {
     "iopub.execute_input": "2025-07-29T21:52:11.940569Z",
     "iopub.status.busy": "2025-07-29T21:52:11.940314Z",
     "iopub.status.idle": "2025-07-29T21:52:11.955344Z",
     "shell.execute_reply": "2025-07-29T21:52:11.954331Z",
     "shell.execute_reply.started": "2025-07-29T21:52:11.940548Z"
    },
    "trusted": true
   },
   "outputs": [],
   "source": [
    "gpus = tf.config.experimental.list_physical_devices('GPU')\n",
    "for gpu in gpus:\n",
    "    tf.config.experimental.set_memory_growth(gpu, True)"
   ]
  },
  {
   "cell_type": "markdown",
   "metadata": {},
   "source": [
    "# Data Wrangling and Preprocessing"
   ]
  },
  {
   "cell_type": "code",
   "execution_count": 6,
   "metadata": {
    "execution": {
     "iopub.execute_input": "2025-07-29T21:52:11.956737Z",
     "iopub.status.busy": "2025-07-29T21:52:11.956418Z",
     "iopub.status.idle": "2025-07-29T21:52:41.867619Z",
     "shell.execute_reply": "2025-07-29T21:52:41.866742Z",
     "shell.execute_reply.started": "2025-07-29T21:52:11.956714Z"
    },
    "trusted": true
   },
   "outputs": [
    {
     "data": {
      "text/html": [
       "<div>\n",
       "<style scoped>\n",
       "    .dataframe tbody tr th:only-of-type {\n",
       "        vertical-align: middle;\n",
       "    }\n",
       "\n",
       "    .dataframe tbody tr th {\n",
       "        vertical-align: top;\n",
       "    }\n",
       "\n",
       "    .dataframe thead th {\n",
       "        text-align: right;\n",
       "    }\n",
       "</style>\n",
       "<table border=\"1\" class=\"dataframe\">\n",
       "  <thead>\n",
       "    <tr style=\"text-align: right;\">\n",
       "      <th></th>\n",
       "      <th>id</th>\n",
       "      <th>article</th>\n",
       "      <th>highlights</th>\n",
       "    </tr>\n",
       "  </thead>\n",
       "  <tbody>\n",
       "    <tr>\n",
       "      <th>0</th>\n",
       "      <td>0001d1afc246a7964130f43ae940af6bc6c57f01</td>\n",
       "      <td>By . Associated Press . PUBLISHED: . 14:11 EST...</td>\n",
       "      <td>Bishop John Folda, of North Dakota, is taking ...</td>\n",
       "    </tr>\n",
       "    <tr>\n",
       "      <th>1</th>\n",
       "      <td>0002095e55fcbd3a2f366d9bf92a95433dc305ef</td>\n",
       "      <td>(CNN) -- Ralph Mata was an internal affairs li...</td>\n",
       "      <td>Criminal complaint: Cop used his role to help ...</td>\n",
       "    </tr>\n",
       "    <tr>\n",
       "      <th>2</th>\n",
       "      <td>00027e965c8264c35cc1bc55556db388da82b07f</td>\n",
       "      <td>A drunk driver who killed a young woman in a h...</td>\n",
       "      <td>Craig Eccleston-Todd, 27, had drunk at least t...</td>\n",
       "    </tr>\n",
       "    <tr>\n",
       "      <th>3</th>\n",
       "      <td>0002c17436637c4fe1837c935c04de47adb18e9a</td>\n",
       "      <td>(CNN) -- With a breezy sweep of his pen Presid...</td>\n",
       "      <td>Nina dos Santos says Europe must be ready to a...</td>\n",
       "    </tr>\n",
       "    <tr>\n",
       "      <th>4</th>\n",
       "      <td>0003ad6ef0c37534f80b55b4235108024b407f0b</td>\n",
       "      <td>Fleetwood are the only team still to have a 10...</td>\n",
       "      <td>Fleetwood top of League One after 2-0 win at S...</td>\n",
       "    </tr>\n",
       "  </tbody>\n",
       "</table>\n",
       "</div>"
      ],
      "text/plain": [
       "                                         id  \\\n",
       "0  0001d1afc246a7964130f43ae940af6bc6c57f01   \n",
       "1  0002095e55fcbd3a2f366d9bf92a95433dc305ef   \n",
       "2  00027e965c8264c35cc1bc55556db388da82b07f   \n",
       "3  0002c17436637c4fe1837c935c04de47adb18e9a   \n",
       "4  0003ad6ef0c37534f80b55b4235108024b407f0b   \n",
       "\n",
       "                                             article  \\\n",
       "0  By . Associated Press . PUBLISHED: . 14:11 EST...   \n",
       "1  (CNN) -- Ralph Mata was an internal affairs li...   \n",
       "2  A drunk driver who killed a young woman in a h...   \n",
       "3  (CNN) -- With a breezy sweep of his pen Presid...   \n",
       "4  Fleetwood are the only team still to have a 10...   \n",
       "\n",
       "                                          highlights  \n",
       "0  Bishop John Folda, of North Dakota, is taking ...  \n",
       "1  Criminal complaint: Cop used his role to help ...  \n",
       "2  Craig Eccleston-Todd, 27, had drunk at least t...  \n",
       "3  Nina dos Santos says Europe must be ready to a...  \n",
       "4  Fleetwood top of League One after 2-0 win at S...  "
      ]
     },
     "execution_count": 6,
     "metadata": {},
     "output_type": "execute_result"
    }
   ],
   "source": [
    "train_df = pd.read_csv('/kaggle/input/newspaper-text-summarization-cnn-dailymail/cnn_dailymail/train.csv')\n",
    "train_df.head()"
   ]
  },
  {
   "cell_type": "code",
   "execution_count": 7,
   "metadata": {
    "execution": {
     "iopub.execute_input": "2025-07-29T21:52:41.868838Z",
     "iopub.status.busy": "2025-07-29T21:52:41.868546Z",
     "iopub.status.idle": "2025-07-29T21:52:41.903286Z",
     "shell.execute_reply": "2025-07-29T21:52:41.902450Z",
     "shell.execute_reply.started": "2025-07-29T21:52:41.868818Z"
    },
    "trusted": true
   },
   "outputs": [
    {
     "data": {
      "text/html": [
       "<div>\n",
       "<style scoped>\n",
       "    .dataframe tbody tr th:only-of-type {\n",
       "        vertical-align: middle;\n",
       "    }\n",
       "\n",
       "    .dataframe tbody tr th {\n",
       "        vertical-align: top;\n",
       "    }\n",
       "\n",
       "    .dataframe thead th {\n",
       "        text-align: right;\n",
       "    }\n",
       "</style>\n",
       "<table border=\"1\" class=\"dataframe\">\n",
       "  <thead>\n",
       "    <tr style=\"text-align: right;\">\n",
       "      <th></th>\n",
       "      <th>article</th>\n",
       "      <th>highlights</th>\n",
       "    </tr>\n",
       "  </thead>\n",
       "  <tbody>\n",
       "    <tr>\n",
       "      <th>0</th>\n",
       "      <td>By . Associated Press . PUBLISHED: . 14:11 EST...</td>\n",
       "      <td>Bishop John Folda, of North Dakota, is taking ...</td>\n",
       "    </tr>\n",
       "    <tr>\n",
       "      <th>1</th>\n",
       "      <td>(CNN) -- Ralph Mata was an internal affairs li...</td>\n",
       "      <td>Criminal complaint: Cop used his role to help ...</td>\n",
       "    </tr>\n",
       "    <tr>\n",
       "      <th>2</th>\n",
       "      <td>A drunk driver who killed a young woman in a h...</td>\n",
       "      <td>Craig Eccleston-Todd, 27, had drunk at least t...</td>\n",
       "    </tr>\n",
       "    <tr>\n",
       "      <th>3</th>\n",
       "      <td>(CNN) -- With a breezy sweep of his pen Presid...</td>\n",
       "      <td>Nina dos Santos says Europe must be ready to a...</td>\n",
       "    </tr>\n",
       "    <tr>\n",
       "      <th>4</th>\n",
       "      <td>Fleetwood are the only team still to have a 10...</td>\n",
       "      <td>Fleetwood top of League One after 2-0 win at S...</td>\n",
       "    </tr>\n",
       "    <tr>\n",
       "      <th>...</th>\n",
       "      <td>...</td>\n",
       "      <td>...</td>\n",
       "    </tr>\n",
       "    <tr>\n",
       "      <th>287108</th>\n",
       "      <td>By . James Rush . Former first daughter Chelse...</td>\n",
       "      <td>Chelsea Clinton said question of running for o...</td>\n",
       "    </tr>\n",
       "    <tr>\n",
       "      <th>287109</th>\n",
       "      <td>An apologetic Vanilla Ice has given his first ...</td>\n",
       "      <td>Vanilla Ice, 47 - real name Robert Van Winkle ...</td>\n",
       "    </tr>\n",
       "    <tr>\n",
       "      <th>287110</th>\n",
       "      <td>America's most lethal sniper claimed he wished...</td>\n",
       "      <td>America's most lethal sniper made comment in i...</td>\n",
       "    </tr>\n",
       "    <tr>\n",
       "      <th>287111</th>\n",
       "      <td>By . Sara Malm . PUBLISHED: . 12:19 EST, 8 Mar...</td>\n",
       "      <td>A swarm of more than one million has crossed b...</td>\n",
       "    </tr>\n",
       "    <tr>\n",
       "      <th>287112</th>\n",
       "      <td>(CNN)Former Florida Gov. Jeb Bush has decided ...</td>\n",
       "      <td>Other 2016 hopefuls maintain that Bush's annou...</td>\n",
       "    </tr>\n",
       "  </tbody>\n",
       "</table>\n",
       "<p>287113 rows × 2 columns</p>\n",
       "</div>"
      ],
      "text/plain": [
       "                                                  article  \\\n",
       "0       By . Associated Press . PUBLISHED: . 14:11 EST...   \n",
       "1       (CNN) -- Ralph Mata was an internal affairs li...   \n",
       "2       A drunk driver who killed a young woman in a h...   \n",
       "3       (CNN) -- With a breezy sweep of his pen Presid...   \n",
       "4       Fleetwood are the only team still to have a 10...   \n",
       "...                                                   ...   \n",
       "287108  By . James Rush . Former first daughter Chelse...   \n",
       "287109  An apologetic Vanilla Ice has given his first ...   \n",
       "287110  America's most lethal sniper claimed he wished...   \n",
       "287111  By . Sara Malm . PUBLISHED: . 12:19 EST, 8 Mar...   \n",
       "287112  (CNN)Former Florida Gov. Jeb Bush has decided ...   \n",
       "\n",
       "                                               highlights  \n",
       "0       Bishop John Folda, of North Dakota, is taking ...  \n",
       "1       Criminal complaint: Cop used his role to help ...  \n",
       "2       Craig Eccleston-Todd, 27, had drunk at least t...  \n",
       "3       Nina dos Santos says Europe must be ready to a...  \n",
       "4       Fleetwood top of League One after 2-0 win at S...  \n",
       "...                                                   ...  \n",
       "287108  Chelsea Clinton said question of running for o...  \n",
       "287109  Vanilla Ice, 47 - real name Robert Van Winkle ...  \n",
       "287110  America's most lethal sniper made comment in i...  \n",
       "287111  A swarm of more than one million has crossed b...  \n",
       "287112  Other 2016 hopefuls maintain that Bush's annou...  \n",
       "\n",
       "[287113 rows x 2 columns]"
      ]
     },
     "execution_count": 7,
     "metadata": {},
     "output_type": "execute_result"
    }
   ],
   "source": [
    "# dropping the id field as it is not necessary\n",
    "\n",
    "train_df.drop('id', axis=1, inplace=True)\n",
    "train_df"
   ]
  },
  {
   "cell_type": "code",
   "execution_count": 8,
   "metadata": {
    "execution": {
     "iopub.execute_input": "2025-07-29T21:52:41.904925Z",
     "iopub.status.busy": "2025-07-29T21:52:41.904326Z",
     "iopub.status.idle": "2025-07-29T21:52:42.084205Z",
     "shell.execute_reply": "2025-07-29T21:52:42.083344Z",
     "shell.execute_reply.started": "2025-07-29T21:52:41.904890Z"
    },
    "trusted": true
   },
   "outputs": [
    {
     "data": {
      "text/plain": [
       "article       0\n",
       "highlights    0\n",
       "dtype: int64"
      ]
     },
     "execution_count": 8,
     "metadata": {},
     "output_type": "execute_result"
    }
   ],
   "source": [
    "# no missing values\n",
    "\n",
    "train_df.isnull().sum()"
   ]
  },
  {
   "cell_type": "code",
   "execution_count": 9,
   "metadata": {
    "execution": {
     "iopub.execute_input": "2025-07-29T21:52:42.086405Z",
     "iopub.status.busy": "2025-07-29T21:52:42.086058Z",
     "iopub.status.idle": "2025-07-29T21:52:43.042713Z",
     "shell.execute_reply": "2025-07-29T21:52:43.042016Z",
     "shell.execute_reply.started": "2025-07-29T21:52:42.086366Z"
    },
    "trusted": true
   },
   "outputs": [],
   "source": [
    "# taking a 20K sample for training due to resources limitations\n",
    "\n",
    "train_df = train_df.rename(columns={\"article\": \"document\", \"highlights\": \"summary\"})\n",
    "\n",
    "dataset = Dataset.from_pandas(train_df.sample(20000, random_state=42))"
   ]
  },
  {
   "cell_type": "markdown",
   "metadata": {},
   "source": [
    "google pegasus-xsum is a pretrained abstractive text summarization model developed by Google Research. It's part of the PEGASUS family, which was designed specifically for high-quality summarization tasks using transformer-based architectures.\n",
    "\n",
    "PEGASUS is a Transformer-based encoder-decoder model tailored for summarization. Its innovation lies in the Gap Sentence Generation pretraining strategy, while its architecture remains similar to other Transformer models, making it powerful and transferable across summarization tasks."
   ]
  },
  {
   "cell_type": "code",
   "execution_count": 10,
   "metadata": {
    "execution": {
     "iopub.execute_input": "2025-07-29T21:52:43.045607Z",
     "iopub.status.busy": "2025-07-29T21:52:43.045372Z",
     "iopub.status.idle": "2025-07-29T21:52:44.755742Z",
     "shell.execute_reply": "2025-07-29T21:52:44.754945Z",
     "shell.execute_reply.started": "2025-07-29T21:52:43.045591Z"
    },
    "trusted": true
   },
   "outputs": [
    {
     "data": {
      "application/vnd.jupyter.widget-view+json": {
       "model_id": "67a0ee9dd1f64ea9a0f1a0763cf2e708",
       "version_major": 2,
       "version_minor": 0
      },
      "text/plain": [
       "tokenizer_config.json:   0%|          | 0.00/87.0 [00:00<?, ?B/s]"
      ]
     },
     "metadata": {},
     "output_type": "display_data"
    },
    {
     "data": {
      "application/vnd.jupyter.widget-view+json": {
       "model_id": "80ba47c3aefe4e318482dd4994276eec",
       "version_major": 2,
       "version_minor": 0
      },
      "text/plain": [
       "spiece.model:   0%|          | 0.00/1.91M [00:00<?, ?B/s]"
      ]
     },
     "metadata": {},
     "output_type": "display_data"
    },
    {
     "data": {
      "application/vnd.jupyter.widget-view+json": {
       "model_id": "caa4d8e0f5894f059a4c1fb5c955112f",
       "version_major": 2,
       "version_minor": 0
      },
      "text/plain": [
       "special_tokens_map.json:   0%|          | 0.00/65.0 [00:00<?, ?B/s]"
      ]
     },
     "metadata": {},
     "output_type": "display_data"
    },
    {
     "data": {
      "application/vnd.jupyter.widget-view+json": {
       "model_id": "389eaa299980456bb75d386f1391d11c",
       "version_major": 2,
       "version_minor": 0
      },
      "text/plain": [
       "tokenizer.json: 0.00B [00:00, ?B/s]"
      ]
     },
     "metadata": {},
     "output_type": "display_data"
    },
    {
     "data": {
      "application/vnd.jupyter.widget-view+json": {
       "model_id": "d033242a03604684adfd66f7119c25a1",
       "version_major": 2,
       "version_minor": 0
      },
      "text/plain": [
       "config.json: 0.00B [00:00, ?B/s]"
      ]
     },
     "metadata": {},
     "output_type": "display_data"
    }
   ],
   "source": [
    "model_name = \"google/pegasus-xsum\"\n",
    "\n",
    "tokenizer = PegasusTokenizer.from_pretrained(model_name)"
   ]
  },
  {
   "cell_type": "code",
   "execution_count": 11,
   "metadata": {
    "execution": {
     "iopub.execute_input": "2025-07-29T21:52:44.756783Z",
     "iopub.status.busy": "2025-07-29T21:52:44.756555Z",
     "iopub.status.idle": "2025-07-29T21:54:16.847419Z",
     "shell.execute_reply": "2025-07-29T21:54:16.846724Z",
     "shell.execute_reply.started": "2025-07-29T21:52:44.756766Z"
    },
    "trusted": true
   },
   "outputs": [
    {
     "data": {
      "application/vnd.jupyter.widget-view+json": {
       "model_id": "83cbc9c397714e238b1bcac15a7a041e",
       "version_major": 2,
       "version_minor": 0
      },
      "text/plain": [
       "Map:   0%|          | 0/20000 [00:00<?, ? examples/s]"
      ]
     },
     "metadata": {},
     "output_type": "display_data"
    },
    {
     "name": "stderr",
     "output_type": "stream",
     "text": [
      "I0000 00:00:1753825969.211239      36 gpu_device.cc:2022] Created device /job:localhost/replica:0/task:0/device:GPU:0 with 13942 MB memory:  -> device: 0, name: Tesla T4, pci bus id: 0000:00:04.0, compute capability: 7.5\n",
      "I0000 00:00:1753825969.212081      36 gpu_device.cc:2022] Created device /job:localhost/replica:0/task:0/device:GPU:1 with 13942 MB memory:  -> device: 1, name: Tesla T4, pci bus id: 0000:00:05.0, compute capability: 7.5\n"
     ]
    },
    {
     "name": "stdout",
     "output_type": "stream",
     "text": [
      "Execution time: 1.53 minutes\n"
     ]
    }
   ],
   "source": [
    "# tokenizing the articles and summaries\n",
    "\n",
    "max_input_length = 512\n",
    "max_target_length = 64\n",
    "\n",
    "def preprocess(example):\n",
    "    inputs = tokenizer(\n",
    "        example[\"document\"],\n",
    "        max_length=max_input_length,\n",
    "        truncation=True,\n",
    "        padding=\"max_length\",\n",
    "        return_tensors=\"tf\"\n",
    "    )\n",
    "    targets = tokenizer(\n",
    "        example[\"summary\"],\n",
    "        max_length=max_target_length,\n",
    "        truncation=True,\n",
    "        padding=\"max_length\",\n",
    "        return_tensors=\"tf\"\n",
    "    )\n",
    "\n",
    "    inputs[\"labels\"] = targets[\"input_ids\"]\n",
    "    return inputs\n",
    "\n",
    "start_time = time.time()\n",
    "\n",
    "train_dataset = dataset.map(preprocess, batched=True)\n",
    "\n",
    "end_time = time.time()\n",
    "print(f\"Execution time: {(end_time - start_time)/60:.2f} minutes\")"
   ]
  },
  {
   "cell_type": "code",
   "execution_count": 12,
   "metadata": {
    "execution": {
     "iopub.execute_input": "2025-07-29T21:54:16.848442Z",
     "iopub.status.busy": "2025-07-29T21:54:16.848216Z",
     "iopub.status.idle": "2025-07-29T21:54:52.933406Z",
     "shell.execute_reply": "2025-07-29T21:54:52.932559Z",
     "shell.execute_reply.started": "2025-07-29T21:54:16.848416Z"
    },
    "trusted": true
   },
   "outputs": [
    {
     "name": "stdout",
     "output_type": "stream",
     "text": [
      "Execution time: 0.60 minutes\n"
     ]
    }
   ],
   "source": [
    "# converting the dataset to a tf_dataset\n",
    "\n",
    "def convert_to_tf_dataset(dataset):\n",
    "    return tf.data.Dataset.from_tensor_slices(({\n",
    "        \"input_ids\": dataset[\"input_ids\"],\n",
    "        \"attention_mask\": dataset[\"attention_mask\"],\n",
    "        \"labels\": dataset[\"labels\"]\n",
    "    }\n",
    "    ))\n",
    "\n",
    "# using batch size of 2 to reduce the memory required\n",
    "\n",
    "batch_size = 2\n",
    "\n",
    "start_time = time.time()\n",
    "\n",
    "tf_train_dataset = convert_to_tf_dataset(train_dataset).shuffle(1000).batch(batch_size).prefetch(tf.data.AUTOTUNE)\n",
    "\n",
    "end_time = time.time()\n",
    "print(f\"Execution time: {(end_time - start_time)/60:.2f} minutes\")"
   ]
  },
  {
   "cell_type": "code",
   "execution_count": 13,
   "metadata": {
    "execution": {
     "iopub.execute_input": "2025-07-29T21:54:52.934728Z",
     "iopub.status.busy": "2025-07-29T21:54:52.934439Z",
     "iopub.status.idle": "2025-07-29T21:55:24.604024Z",
     "shell.execute_reply": "2025-07-29T21:55:24.603270Z",
     "shell.execute_reply.started": "2025-07-29T21:54:52.934697Z"
    },
    "trusted": true
   },
   "outputs": [
    {
     "data": {
      "application/vnd.jupyter.widget-view+json": {
       "model_id": "2f43fbae4cc74b11b4514f13eaf6e900",
       "version_major": 2,
       "version_minor": 0
      },
      "text/plain": [
       "tf_model.h5:   0%|          | 0.00/2.28G [00:00<?, ?B/s]"
      ]
     },
     "metadata": {},
     "output_type": "display_data"
    },
    {
     "name": "stderr",
     "output_type": "stream",
     "text": [
      "All model checkpoint layers were used when initializing TFPegasusForConditionalGeneration.\n",
      "\n",
      "Some layers of TFPegasusForConditionalGeneration were not initialized from the model checkpoint at google/pegasus-xsum and are newly initialized: ['final_logits_bias']\n",
      "You should probably TRAIN this model on a down-stream task to be able to use it for predictions and inference.\n"
     ]
    },
    {
     "data": {
      "application/vnd.jupyter.widget-view+json": {
       "model_id": "18c4b6ae8ec848e3862cfb740ee14280",
       "version_major": 2,
       "version_minor": 0
      },
      "text/plain": [
       "generation_config.json:   0%|          | 0.00/259 [00:00<?, ?B/s]"
      ]
     },
     "metadata": {},
     "output_type": "display_data"
    },
    {
     "name": "stdout",
     "output_type": "stream",
     "text": [
      "Model: \"tf_pegasus_for_conditional_generation\"\n",
      "_________________________________________________________________\n",
      " Layer (type)                Output Shape              Param #   \n",
      "=================================================================\n",
      " model (TFPegasusMainLayer)  multiple                  569748480 \n",
      "                                                                 \n",
      " final_logits_bias (BiasLay  multiple                  96103     \n",
      " er)                                                             \n",
      "                                                                 \n",
      "=================================================================\n",
      "Total params: 569844583 (2.12 GB)\n",
      "Trainable params: 569748480 (2.12 GB)\n",
      "Non-trainable params: 96103 (375.40 KB)\n",
      "_________________________________________________________________\n"
     ]
    }
   ],
   "source": [
    "strategy = tf.distribute.MirroredStrategy()\n",
    "\n",
    "\n",
    "# ignoring positions marked with -100 in y_true to prevent the model from learning from padded parts of the output sequence.\n",
    "def masked_loss(y_true, y_pred):\n",
    "    loss_fn = tf.keras.losses.SparseCategoricalCrossentropy(from_logits=True, reduction=\"none\")\n",
    "    loss = loss_fn(y_true, y_pred)\n",
    "    mask = tf.cast(y_true != -100, loss.dtype)\n",
    "    loss *= mask\n",
    "    return tf.reduce_sum(loss) / tf.reduce_sum(mask)\n",
    "\n",
    "\n",
    "# Adafactor is a more memory efficient variation Adam Optimizer\n",
    "with strategy.scope():\n",
    "    model = TFPegasusForConditionalGeneration.from_pretrained(model_name)\n",
    "    model.compile(optimizer=tf.keras.optimizers.Adafactor(),\n",
    "                  loss=masked_loss)\n",
    "    model.summary()"
   ]
  },
  {
   "cell_type": "markdown",
   "metadata": {},
   "source": [
    "# Benchmarking Model Performance before Tuning"
   ]
  },
  {
   "cell_type": "markdown",
   "metadata": {},
   "source": [
    "**Performance Metrics:**\n",
    "\n",
    "\n",
    "**1. Rouge:**\n",
    "\n",
    "\n",
    "   * ROUGE measures overlap between the candidate and reference summaries in terms of n-grams, sequences, and word pairs.\n",
    "   * ROUGE-1: Overlap of single words (unigrams)\n",
    "   * ROUGE-2: Overlap of two-word sequences (bigrams)\n",
    "   * ROUGE-L (Longest Common Subsequence): Measures the longest sequence of words that appears in both the candidate and reference in the same order (not necessarily consecutive), Focuses more on fluency and structure.\n",
    "   * ROUGE-LSUM: which measures the Longest Common Subsequence (LCS) between a reference and generated text.\n",
    "\n",
    "   \n",
    "\n",
    "**2. Bert Score:**\n",
    "\n",
    "   * BERTScore evaluates the semantic similarity between the generated text (candidate) and the reference using deep contextual embeddings from pretrained BERT models.\n",
    "   * Precision: how well the generated text aligns with the reference\n",
    "   * Recall: how well the reference is captured in the generated text\n",
    "   * F1-Score: harmonic mean of precision and recall\n",
    "    "
   ]
  },
  {
   "cell_type": "code",
   "execution_count": 14,
   "metadata": {
    "execution": {
     "iopub.execute_input": "2025-07-29T21:55:24.605244Z",
     "iopub.status.busy": "2025-07-29T21:55:24.604913Z",
     "iopub.status.idle": "2025-07-29T21:55:32.489771Z",
     "shell.execute_reply": "2025-07-29T21:55:32.489047Z",
     "shell.execute_reply.started": "2025-07-29T21:55:24.605222Z"
    },
    "trusted": true
   },
   "outputs": [
    {
     "data": {
      "application/vnd.jupyter.widget-view+json": {
       "model_id": "b0cd9ed2002448c2981d94ab084aa2fb",
       "version_major": 2,
       "version_minor": 0
      },
      "text/plain": [
       "Map:   0%|          | 0/1000 [00:00<?, ? examples/s]"
      ]
     },
     "metadata": {},
     "output_type": "display_data"
    },
    {
     "name": "stdout",
     "output_type": "stream",
     "text": [
      "Execution time: 0.13 minutes\n"
     ]
    },
    {
     "data": {
      "text/plain": [
       "<_PrefetchDataset element_spec={'input_ids': TensorSpec(shape=(2, 512), dtype=tf.int32, name=None), 'attention_mask': TensorSpec(shape=(2, 512), dtype=tf.int32, name=None), 'labels': TensorSpec(shape=(2, 64), dtype=tf.int32, name=None)}>"
      ]
     },
     "execution_count": 14,
     "metadata": {},
     "output_type": "execute_result"
    }
   ],
   "source": [
    "start_time = time.time()\n",
    "\n",
    "\n",
    "validation_df = pd.read_csv('/kaggle/input/newspaper-text-summarization-cnn-dailymail/cnn_dailymail/validation.csv')\n",
    "validation_df.drop('id', axis=1, inplace=True)\n",
    "validation_df = validation_df.rename(columns={\"article\": \"document\", \"highlights\": \"summary\"})\n",
    "\n",
    "validation_dataset = Dataset.from_pandas(validation_df.sample(1000, random_state=42))\n",
    "validation_dataset = validation_dataset.map(preprocess, batched=True)\n",
    "tf_validation_dataset = convert_to_tf_dataset(validation_dataset).shuffle(1000).batch(batch_size, drop_remainder=True).prefetch(tf.data.AUTOTUNE)\n",
    "\n",
    "end_time = time.time()\n",
    "print(f\"Execution time: {(end_time - start_time)/60:.2f} minutes\")\n",
    "\n",
    "tf_validation_dataset"
   ]
  },
  {
   "cell_type": "code",
   "execution_count": 15,
   "metadata": {
    "execution": {
     "iopub.execute_input": "2025-07-29T21:55:32.490781Z",
     "iopub.status.busy": "2025-07-29T21:55:32.490539Z",
     "iopub.status.idle": "2025-07-29T22:06:18.697814Z",
     "shell.execute_reply": "2025-07-29T22:06:18.697041Z",
     "shell.execute_reply.started": "2025-07-29T21:55:32.490763Z"
    },
    "trusted": true
   },
   "outputs": [
    {
     "name": "stdout",
     "output_type": "stream",
     "text": [
      "Execution time: 10.77 minutes\n",
      "Pre Tuning Validation Loss: 3.1233458518981934\n"
     ]
    }
   ],
   "source": [
    "# calculate loss\n",
    "\n",
    "start_time = time.time()\n",
    "\n",
    "\n",
    "total_loss = 0.0\n",
    "num_batches = 0\n",
    "\n",
    "for batch in tf_validation_dataset:\n",
    "    num_batches += 1\n",
    "\n",
    "    outputs = model(\n",
    "        input_ids=batch[\"input_ids\"],\n",
    "        attention_mask=batch[\"attention_mask\"],\n",
    "        labels=batch[\"labels\"],\n",
    "        training=False\n",
    "    )\n",
    "\n",
    "    loss = outputs.loss\n",
    "\n",
    "    total_loss += loss.numpy()\n",
    "\n",
    "\n",
    "end_time = time.time()\n",
    "print(f\"Execution time: {(end_time - start_time)/60:.2f} minutes\")\n",
    "\n",
    "pre_tuning_avg_val_loss = total_loss / num_batches\n",
    "print(f\"Pre Tuning Validation Loss: {pre_tuning_avg_val_loss[0]}\")"
   ]
  },
  {
   "cell_type": "code",
   "execution_count": 16,
   "metadata": {
    "execution": {
     "iopub.execute_input": "2025-07-29T22:06:37.871371Z",
     "iopub.status.busy": "2025-07-29T22:06:37.870596Z",
     "iopub.status.idle": "2025-07-29T22:11:45.758893Z",
     "shell.execute_reply": "2025-07-29T22:11:45.757870Z",
     "shell.execute_reply.started": "2025-07-29T22:06:37.871326Z"
    },
    "trusted": true
   },
   "outputs": [
    {
     "name": "stdout",
     "output_type": "stream",
     "text": [
      "Execution time: 5.13 minutes\n"
     ]
    }
   ],
   "source": [
    "# generate summaries\n",
    "\n",
    "start_time = time.time()\n",
    "\n",
    "pre_tuning_preds = []\n",
    "all_refs = []\n",
    "\n",
    "\n",
    "for batch in tf_validation_dataset:\n",
    "\n",
    "    \n",
    "    input_ids = batch[\"input_ids\"]\n",
    "    attention_mask = batch[\"attention_mask\"]\n",
    "    labels = batch[\"labels\"]\n",
    "\n",
    "    \n",
    "    with strategy.scope():\n",
    "        generated_ids = model.generate(\n",
    "            input_ids=input_ids,\n",
    "            attention_mask=attention_mask,\n",
    "            max_length=64,\n",
    "            num_beams=4,\n",
    "            early_stopping=True\n",
    "        )\n",
    "\n",
    "\n",
    "    decoded_preds = tokenizer.batch_decode(generated_ids, skip_special_tokens=True)\n",
    "    pre_tuning_preds.extend(decoded_preds)\n",
    "\n",
    "\n",
    "    decoded_labels = tokenizer.batch_decode(\n",
    "        tf.where(labels == -100, tokenizer.pad_token_id, labels),\n",
    "        skip_special_tokens=True\n",
    "    )\n",
    "    all_refs.extend(decoded_labels)\n",
    "\n",
    "\n",
    "\n",
    "end_time = time.time()\n",
    "print(f\"Execution time: {(end_time - start_time)/60:.2f} minutes\")"
   ]
  },
  {
   "cell_type": "code",
   "execution_count": 17,
   "metadata": {
    "execution": {
     "iopub.execute_input": "2025-07-29T22:11:54.963485Z",
     "iopub.status.busy": "2025-07-29T22:11:54.962860Z",
     "iopub.status.idle": "2025-07-29T22:11:56.132277Z",
     "shell.execute_reply": "2025-07-29T22:11:56.131492Z",
     "shell.execute_reply.started": "2025-07-29T22:11:54.963455Z"
    },
    "trusted": true
   },
   "outputs": [
    {
     "data": {
      "application/vnd.jupyter.widget-view+json": {
       "model_id": "f73644db41aa4e37a6cfdbfd78f4d739",
       "version_major": 2,
       "version_minor": 0
      },
      "text/plain": [
       "Downloading builder script: 0.00B [00:00, ?B/s]"
      ]
     },
     "metadata": {},
     "output_type": "display_data"
    },
    {
     "name": "stdout",
     "output_type": "stream",
     "text": [
      "{'rouge1': 0.23768329832694893, 'rouge2': 0.08185702144517037, 'rougeL': 0.16956463563352142, 'rougeLsum': 0.16811891998029393}\n",
      "Execution time: 0.00 minutes\n"
     ]
    }
   ],
   "source": [
    "# rouge score\n",
    "\n",
    "rouge = load(\"rouge\")\n",
    "\n",
    "start_time = time.time()\n",
    "\n",
    "\n",
    "pre_tuning_rouge_results = rouge.compute(predictions=pre_tuning_preds, references=all_refs)\n",
    "print(pre_tuning_rouge_results)\n",
    "\n",
    "\n",
    "end_time = time.time()\n",
    "print(f\"Execution time: {(end_time - start_time)/60:.2f} minutes\")"
   ]
  },
  {
   "cell_type": "code",
   "execution_count": 18,
   "metadata": {
    "execution": {
     "iopub.execute_input": "2025-07-29T22:11:58.783614Z",
     "iopub.status.busy": "2025-07-29T22:11:58.783292Z",
     "iopub.status.idle": "2025-07-29T22:12:25.288453Z",
     "shell.execute_reply": "2025-07-29T22:12:25.287407Z",
     "shell.execute_reply.started": "2025-07-29T22:11:58.783590Z"
    },
    "trusted": true
   },
   "outputs": [
    {
     "data": {
      "application/vnd.jupyter.widget-view+json": {
       "model_id": "80d4c872a0164b20836223e6c8d3c3f0",
       "version_major": 2,
       "version_minor": 0
      },
      "text/plain": [
       "Downloading builder script: 0.00B [00:00, ?B/s]"
      ]
     },
     "metadata": {},
     "output_type": "display_data"
    },
    {
     "data": {
      "application/vnd.jupyter.widget-view+json": {
       "model_id": "2333f652734041328596cf317f41222e",
       "version_major": 2,
       "version_minor": 0
      },
      "text/plain": [
       "tokenizer_config.json:   0%|          | 0.00/25.0 [00:00<?, ?B/s]"
      ]
     },
     "metadata": {},
     "output_type": "display_data"
    },
    {
     "data": {
      "application/vnd.jupyter.widget-view+json": {
       "model_id": "cb693d93310e4fc4ac121d92e7785eaf",
       "version_major": 2,
       "version_minor": 0
      },
      "text/plain": [
       "config.json:   0%|          | 0.00/482 [00:00<?, ?B/s]"
      ]
     },
     "metadata": {},
     "output_type": "display_data"
    },
    {
     "data": {
      "application/vnd.jupyter.widget-view+json": {
       "model_id": "e5cc8ea7007f4034b5fb36b4f7376bd6",
       "version_major": 2,
       "version_minor": 0
      },
      "text/plain": [
       "vocab.json:   0%|          | 0.00/899k [00:00<?, ?B/s]"
      ]
     },
     "metadata": {},
     "output_type": "display_data"
    },
    {
     "data": {
      "application/vnd.jupyter.widget-view+json": {
       "model_id": "a0ab31c4b75a4fa1bac1b4524d64cb83",
       "version_major": 2,
       "version_minor": 0
      },
      "text/plain": [
       "merges.txt:   0%|          | 0.00/456k [00:00<?, ?B/s]"
      ]
     },
     "metadata": {},
     "output_type": "display_data"
    },
    {
     "data": {
      "application/vnd.jupyter.widget-view+json": {
       "model_id": "a40505ab5a8d49c98748a3d9d963a5c1",
       "version_major": 2,
       "version_minor": 0
      },
      "text/plain": [
       "tokenizer.json:   0%|          | 0.00/1.36M [00:00<?, ?B/s]"
      ]
     },
     "metadata": {},
     "output_type": "display_data"
    },
    {
     "data": {
      "application/vnd.jupyter.widget-view+json": {
       "model_id": "6f9c1b327bc146a187f3308a6fb62dc4",
       "version_major": 2,
       "version_minor": 0
      },
      "text/plain": [
       "model.safetensors:   0%|          | 0.00/1.42G [00:00<?, ?B/s]"
      ]
     },
     "metadata": {},
     "output_type": "display_data"
    },
    {
     "name": "stderr",
     "output_type": "stream",
     "text": [
      "Some weights of RobertaModel were not initialized from the model checkpoint at roberta-large and are newly initialized: ['pooler.dense.bias', 'pooler.dense.weight']\n",
      "You should probably TRAIN this model on a down-stream task to be able to use it for predictions and inference.\n"
     ]
    },
    {
     "name": "stdout",
     "output_type": "stream",
     "text": [
      "Execution time: 0.43 minutes\n",
      "Pre Tuning Precision Mean: 0.8796\n",
      "Pre Tuning Recall Mean:    0.8376\n",
      "Pre Tuning F1 Mean:        0.8580\n"
     ]
    }
   ],
   "source": [
    "# bert score\n",
    "\n",
    "bertscore = load(\"bertscore\")\n",
    "\n",
    "start_time = time.time()\n",
    "\n",
    "pre_tuning_bert_results = bertscore.compute(predictions=pre_tuning_preds, references=all_refs, lang=\"en\", device=\"cpu\")\n",
    "\n",
    "pre_tuning_precision_mean = np.mean(pre_tuning_bert_results[\"precision\"])\n",
    "pre_tuning_recall_mean = np.mean(pre_tuning_bert_results[\"recall\"])\n",
    "pre_tuning_f1_mean = np.mean(pre_tuning_bert_results[\"f1\"])\n",
    "\n",
    "\n",
    "end_time = time.time()\n",
    "print(f\"Execution time: {(end_time - start_time)/60:.2f} minutes\")\n",
    "\n",
    "print(f\"Pre Tuning Precision Mean: {pre_tuning_precision_mean:.4f}\")\n",
    "print(f\"Pre Tuning Recall Mean:    {pre_tuning_recall_mean:.4f}\")\n",
    "print(f\"Pre Tuning F1 Mean:        {pre_tuning_f1_mean:.4f}\")"
   ]
  },
  {
   "cell_type": "markdown",
   "metadata": {},
   "source": [
    "# Model Fine Tuning"
   ]
  },
  {
   "cell_type": "code",
   "execution_count": 19,
   "metadata": {
    "execution": {
     "iopub.execute_input": "2025-07-29T22:12:25.291210Z",
     "iopub.status.busy": "2025-07-29T22:12:25.290881Z",
     "iopub.status.idle": "2025-07-29T22:12:25.988416Z",
     "shell.execute_reply": "2025-07-29T22:12:25.987456Z",
     "shell.execute_reply.started": "2025-07-29T22:12:25.291183Z"
    },
    "trusted": true
   },
   "outputs": [
    {
     "data": {
      "text/plain": [
       "275"
      ]
     },
     "execution_count": 19,
     "metadata": {},
     "output_type": "execute_result"
    }
   ],
   "source": [
    "import gc\n",
    "\n",
    "\n",
    "# garbage collection before training to prevent OOM error\n",
    "\n",
    "gc.collect()"
   ]
  },
  {
   "cell_type": "code",
   "execution_count": 20,
   "metadata": {
    "execution": {
     "iopub.execute_input": "2025-07-29T22:12:39.919244Z",
     "iopub.status.busy": "2025-07-29T22:12:39.918380Z",
     "iopub.status.idle": "2025-07-30T01:51:24.474261Z",
     "shell.execute_reply": "2025-07-30T01:51:24.473507Z",
     "shell.execute_reply.started": "2025-07-29T22:12:39.919208Z"
    },
    "trusted": true
   },
   "outputs": [
    {
     "name": "stdout",
     "output_type": "stream",
     "text": [
      "Epoch 1/40\n"
     ]
    },
    {
     "name": "stderr",
     "output_type": "stream",
     "text": [
      "WARNING: All log messages before absl::InitializeLog() is called are written to STDERR\n",
      "I0000 00:00:1753827612.993785     128 service.cc:148] XLA service 0x7a38ec00e5f0 initialized for platform CUDA (this does not guarantee that XLA will be used). Devices:\n",
      "I0000 00:00:1753827612.994541     128 service.cc:156]   StreamExecutor device (0): Tesla T4, Compute Capability 7.5\n",
      "I0000 00:00:1753827612.994568     128 service.cc:156]   StreamExecutor device (1): Tesla T4, Compute Capability 7.5\n",
      "I0000 00:00:1753827613.146393     128 cuda_dnn.cc:529] Loaded cuDNN version 91100\n",
      "I0000 00:00:1753827613.146412     131 cuda_dnn.cc:529] Loaded cuDNN version 91100\n",
      "I0000 00:00:1753827613.482848     131 device_compiler.h:188] Compiled cluster using XLA!  This line is logged at most once for the lifetime of the process.\n"
     ]
    },
    {
     "name": "stdout",
     "output_type": "stream",
     "text": [
      "500/500 [==============================] - 1214s 1s/step - loss: 2.6303\n",
      "Epoch 2/40\n",
      "500/500 [==============================] - 634s 1s/step - loss: 2.0439\n",
      "Epoch 3/40\n",
      "500/500 [==============================] - 631s 1s/step - loss: 2.0028\n",
      "Epoch 4/40\n",
      "500/500 [==============================] - 626s 1s/step - loss: 1.9712\n",
      "Epoch 5/40\n",
      "500/500 [==============================] - 623s 1s/step - loss: 1.9918\n",
      "Epoch 6/40\n",
      "500/500 [==============================] - 623s 1s/step - loss: 2.0067\n",
      "Epoch 7/40\n",
      "500/500 [==============================] - 625s 1s/step - loss: 1.9446\n",
      "Epoch 8/40\n",
      "500/500 [==============================] - 623s 1s/step - loss: 1.9429\n",
      "Epoch 9/40\n",
      "500/500 [==============================] - 627s 1s/step - loss: 2.0000\n",
      "Epoch 10/40\n",
      "500/500 [==============================] - 626s 1s/step - loss: 1.9603\n",
      "Epoch 11/40\n",
      "500/500 [==============================] - 632s 1s/step - loss: 1.9212\n",
      "Epoch 12/40\n",
      "500/500 [==============================] - 629s 1s/step - loss: 1.9710\n",
      "Epoch 13/40\n",
      "500/500 [==============================] - 627s 1s/step - loss: 1.9681\n",
      "Epoch 14/40\n",
      "500/500 [==============================] - 626s 1s/step - loss: 1.9572\n",
      "Epoch 15/40\n",
      "500/500 [==============================] - 627s 1s/step - loss: 1.9619\n",
      "Epoch 16/40\n",
      "500/500 [==============================] - 629s 1s/step - loss: 1.9159\n",
      "Epoch 17/40\n",
      "500/500 [==============================] - 631s 1s/step - loss: 1.9585\n",
      "Epoch 18/40\n",
      "500/500 [==============================] - 623s 1s/step - loss: 1.9198\n",
      "Epoch 19/40\n",
      "500/500 [==============================] - 625s 1s/step - loss: 1.9379\n",
      "Epoch 20/40\n",
      "500/500 [==============================] - 623s 1s/step - loss: 1.9419\n",
      "Epoch 21/40\n",
      "500/500 [==============================] - 0s 79us/step - loss: 0.0000e+00\n"
     ]
    }
   ],
   "source": [
    "model_checkpoint = tf.keras.callbacks.ModelCheckpoint(\n",
    "    filepath='/kaggle/working/checkpoints/best_model',\n",
    "    monitor='loss',\n",
    "    mode='min',\n",
    "    save_best_only=True)\n",
    "\n",
    "# training the model by passing all the samples once\n",
    "\n",
    "history = model.fit(\n",
    "    tf_train_dataset,\n",
    "    epochs=40,\n",
    "    steps_per_epoch= 500,\n",
    "    batch_size=2,\n",
    "    verbose=1,\n",
    "    callbacks=[model_checkpoint]\n",
    ")\n",
    "\n",
    "# the training stopped after 20 epochs only as the dataset is exhusted during training\n",
    "# this is due to that each step takes 2 samples (2 samples per batch)"
   ]
  },
  {
   "cell_type": "code",
   "execution_count": 23,
   "metadata": {
    "execution": {
     "iopub.execute_input": "2025-07-30T02:02:14.248729Z",
     "iopub.status.busy": "2025-07-30T02:02:14.248418Z",
     "iopub.status.idle": "2025-07-30T02:02:14.531870Z",
     "shell.execute_reply": "2025-07-30T02:02:14.531033Z",
     "shell.execute_reply.started": "2025-07-30T02:02:14.248707Z"
    },
    "trusted": true
   },
   "outputs": [
    {
     "data": {
      "image/png": "[encoded data removed]",
      "text/plain": [
       "<Figure size 640x480 with 1 Axes>"
      ]
     },
     "metadata": {},
     "output_type": "display_data"
    }
   ],
   "source": [
    "plt.plot(history.history['loss'], label='Training Loss')\n",
    "plt.title('Loss over Epochs')\n",
    "plt.xticks(range(len(history.history['loss'])))\n",
    "plt.xlabel('Epoch')\n",
    "plt.ylabel('Loss')\n",
    "plt.legend()\n",
    "plt.grid(True)\n",
    "plt.show()"
   ]
  },
  {
   "cell_type": "markdown",
   "metadata": {},
   "source": [
    "# Loading Best Weights and Analyzing The Model Performance"
   ]
  },
  {
   "cell_type": "code",
   "execution_count": 24,
   "metadata": {
    "execution": {
     "iopub.execute_input": "2025-07-30T02:02:32.058953Z",
     "iopub.status.busy": "2025-07-30T02:02:32.058640Z",
     "iopub.status.idle": "2025-07-30T02:02:32.063376Z",
     "shell.execute_reply": "2025-07-30T02:02:32.062374Z",
     "shell.execute_reply.started": "2025-07-30T02:02:32.058928Z"
    },
    "trusted": true
   },
   "outputs": [],
   "source": [
    "model.load_weights('/kaggle/working/checkpoints/best_model')"
   ]
  },
  {
   "cell_type": "code",
   "execution_count": 25,
   "metadata": {
    "execution": {
     "iopub.execute_input": "2025-07-30T02:02:52.008562Z",
     "iopub.status.busy": "2025-07-30T02:02:52.008232Z",
     "iopub.status.idle": "2025-07-30T02:12:40.191498Z",
     "shell.execute_reply": "2025-07-30T02:12:40.190459Z",
     "shell.execute_reply.started": "2025-07-30T02:02:52.008539Z"
    },
    "trusted": true
   },
   "outputs": [
    {
     "name": "stdout",
     "output_type": "stream",
     "text": [
      "Execution time: 9.80 minutes\n",
      "Pre Tuning Validation Loss: 3.1233458518981934\n",
      "Post Tuning Validation Loss: 1.8427021503448486\n"
     ]
    }
   ],
   "source": [
    "start_time = time.time()\n",
    "\n",
    "total_loss = 0.0\n",
    "num_batches = 0\n",
    "\n",
    "for batch in tf_validation_dataset:\n",
    "    \n",
    "    num_batches += 1\n",
    "        \n",
    "    outputs = model(\n",
    "        input_ids=batch[\"input_ids\"],\n",
    "        attention_mask=batch[\"attention_mask\"],\n",
    "        labels=batch[\"labels\"],\n",
    "        training=False\n",
    "    )\n",
    "\n",
    "    loss = outputs.loss\n",
    "\n",
    "    total_loss += loss.numpy()\n",
    "\n",
    "\n",
    "end_time = time.time()\n",
    "print(f\"Execution time: {(end_time - start_time)/60:.2f} minutes\")\n",
    "\n",
    "post_tuning_avg_val_loss = total_loss / num_batches\n",
    "print(f\"Pre Tuning Validation Loss: {pre_tuning_avg_val_loss[0]}\")\n",
    "print(f\"Post Tuning Validation Loss: {post_tuning_avg_val_loss[0]}\")"
   ]
  },
  {
   "cell_type": "code",
   "execution_count": 32,
   "metadata": {
    "execution": {
     "iopub.execute_input": "2025-07-30T02:25:28.530722Z",
     "iopub.status.busy": "2025-07-30T02:25:28.530312Z",
     "iopub.status.idle": "2025-07-30T02:34:31.713886Z",
     "shell.execute_reply": "2025-07-30T02:34:31.713031Z",
     "shell.execute_reply.started": "2025-07-30T02:25:28.530699Z"
    },
    "trusted": true
   },
   "outputs": [
    {
     "name": "stdout",
     "output_type": "stream",
     "text": [
      "Execution time: 9.05 minutes\n"
     ]
    }
   ],
   "source": [
    "start_time = time.time()\n",
    "\n",
    "post_tuning_preds = []\n",
    "post_tunung_refs = []\n",
    "num_batches = 0\n",
    "\n",
    "for batch in tf_validation_dataset:\n",
    "  \n",
    "    input_ids = batch[\"input_ids\"]\n",
    "    attention_mask = batch[\"attention_mask\"]\n",
    "    labels = batch[\"labels\"]\n",
    "\n",
    "    \n",
    "    with strategy.scope():\n",
    "        generated_ids = model.generate(\n",
    "            input_ids=input_ids,\n",
    "            attention_mask=attention_mask,\n",
    "            max_length=64,\n",
    "            num_beams=4,\n",
    "            early_stopping=True\n",
    "        )\n",
    "\n",
    "    \n",
    "    decoded_preds = tokenizer.batch_decode(generated_ids, skip_special_tokens=True)\n",
    "    post_tuning_preds.extend(decoded_preds)\n",
    "\n",
    "    decoded_labels = tokenizer.batch_decode(\n",
    "    tf.where(labels == -100, tokenizer.pad_token_id, labels),\n",
    "    skip_special_tokens=True\n",
    "    )\n",
    "    post_tunung_refs.extend(decoded_labels)\n",
    "\n",
    "\n",
    "end_time = time.time()\n",
    "print(f\"Execution time: {(end_time - start_time)/60:.2f} minutes\")"
   ]
  },
  {
   "cell_type": "code",
   "execution_count": 33,
   "metadata": {
    "execution": {
     "iopub.execute_input": "2025-07-30T02:34:31.715639Z",
     "iopub.status.busy": "2025-07-30T02:34:31.715395Z",
     "iopub.status.idle": "2025-07-30T02:34:31.924490Z",
     "shell.execute_reply": "2025-07-30T02:34:31.923560Z",
     "shell.execute_reply.started": "2025-07-30T02:34:31.715622Z"
    },
    "trusted": true
   },
   "outputs": [
    {
     "name": "stdout",
     "output_type": "stream",
     "text": [
      "Execution time: 0.00 minutes\n",
      "Post Tuning Rouge\n",
      "{'rouge1': 0.4036214053426081, 'rouge2': 0.17220537144910752, 'rougeL': 0.27938915044075807, 'rougeLsum': 0.27803206778843054}\n",
      "Pre Tuning Rouge\n",
      "{'rouge1': 0.23768329832694893, 'rouge2': 0.08185702144517037, 'rougeL': 0.16956463563352142, 'rougeLsum': 0.16811891998029393}\n"
     ]
    }
   ],
   "source": [
    "start_time = time.time()\n",
    "\n",
    "post_tuning_rouge_results = rouge.compute(predictions=post_tuning_preds, references=post_tunung_refs)\n",
    "\n",
    "end_time = time.time()\n",
    "print(f\"Execution time: {(end_time - start_time)/60:.2f} minutes\")\n",
    "\n",
    "\n",
    "print('Post Tuning Rouge')\n",
    "print(post_tuning_rouge_results)\n",
    "print('Pre Tuning Rouge')\n",
    "print(pre_tuning_rouge_results)"
   ]
  },
  {
   "cell_type": "code",
   "execution_count": 36,
   "metadata": {
    "execution": {
     "iopub.execute_input": "2025-07-30T02:35:53.883801Z",
     "iopub.status.busy": "2025-07-30T02:35:53.883116Z",
     "iopub.status.idle": "2025-07-30T02:35:59.931292Z",
     "shell.execute_reply": "2025-07-30T02:35:59.930528Z",
     "shell.execute_reply.started": "2025-07-30T02:35:53.883777Z"
    },
    "trusted": true
   },
   "outputs": [
    {
     "name": "stdout",
     "output_type": "stream",
     "text": [
      "Execution time: 0.10 minutes\n",
      "Post Tuning Precision Mean: 0.8803 \t-\t Pre Tuning Precision Mean: 0.8796\n",
      "Post Tuning Recall Mean:    0.8806 \t-\t Pre Tuning Recall Mean:    0.8376\n",
      "Post Tuning F1 Mean:        0.8803 \t-\t Pre Tuning F1 Mean:        0.8580\n"
     ]
    }
   ],
   "source": [
    "start_time = time.time()\n",
    "\n",
    "post_tuning_bert_results = bertscore.compute(predictions=post_tuning_preds, references=post_tunung_refs, lang=\"en\", device=\"cpu\")\n",
    "\n",
    "post_tuning_precision_mean = np.mean(post_tuning_bert_results[\"precision\"])\n",
    "post_tuning_recall_mean = np.mean(post_tuning_bert_results[\"recall\"])\n",
    "post_tuning_f1_mean = np.mean(post_tuning_bert_results[\"f1\"])\n",
    "\n",
    "end_time = time.time()\n",
    "print(f\"Execution time: {(end_time - start_time)/60:.2f} minutes\")\n",
    "\n",
    "print(f\"Post Tuning Precision Mean: {post_tuning_precision_mean:.4f} \\t-\\t Pre Tuning Precision Mean: {pre_tuning_precision_mean:.4f}\")\n",
    "print(f\"Post Tuning Recall Mean:    {post_tuning_recall_mean:.4f} \\t-\\t Pre Tuning Recall Mean:    {pre_tuning_recall_mean:.4f}\")\n",
    "print(f\"Post Tuning F1 Mean:        {post_tuning_f1_mean:.4f} \\t-\\t Pre Tuning F1 Mean:        {pre_tuning_f1_mean:.4f}\")"
   ]
  },
  {
   "cell_type": "code",
   "execution_count": 37,
   "metadata": {
    "execution": {
     "iopub.execute_input": "2025-07-30T02:36:18.739397Z",
     "iopub.status.busy": "2025-07-30T02:36:18.739086Z",
     "iopub.status.idle": "2025-07-30T02:36:27.364151Z",
     "shell.execute_reply": "2025-07-30T02:36:27.362811Z",
     "shell.execute_reply.started": "2025-07-30T02:36:18.739375Z"
    },
    "trusted": true
   },
   "outputs": [
    {
     "name": "stderr",
     "output_type": "stream",
     "text": [
      "/usr/local/lib/python3.11/dist-packages/transformers/configuration_utils.py:394: UserWarning: Some non-default generation parameters are set in the model config. These should go into either a) `model.generation_config` (as opposed to `model.config`); OR b) a GenerationConfig file (https://huggingface.co/docs/transformers/generation_strategies#save-a-custom-decoding-strategy-with-your-model).This warning will become an exception in the future.\n",
      "Non-default generation parameters: {'max_length': 64, 'num_beams': 8, 'length_penalty': 0.6}\n",
      "  warnings.warn(\n"
     ]
    },
    {
     "data": {
      "text/plain": [
       "('/kaggle/working/pegasus-finetuned-tf/tokenizer_config.json',\n",
       " '/kaggle/working/pegasus-finetuned-tf/special_tokens_map.json',\n",
       " '/kaggle/working/pegasus-finetuned-tf/spiece.model',\n",
       " '/kaggle/working/pegasus-finetuned-tf/added_tokens.json')"
      ]
     },
     "execution_count": 37,
     "metadata": {},
     "output_type": "execute_result"
    }
   ],
   "source": [
    "model.save_pretrained(\"/kaggle/working/pegasus-finetuned-tf\")\n",
    "tokenizer.save_pretrained(\"/kaggle/working/pegasus-finetuned-tf\")"
   ]
  },
  {
   "cell_type": "markdown",
   "metadata": {},
   "source": [
    "# Pipeline Inferance"
   ]
  },
  {
   "cell_type": "code",
   "execution_count": 38,
   "metadata": {
    "execution": {
     "iopub.execute_input": "2025-07-30T02:36:41.048921Z",
     "iopub.status.busy": "2025-07-30T02:36:41.048582Z",
     "iopub.status.idle": "2025-07-30T02:36:51.402462Z",
     "shell.execute_reply": "2025-07-30T02:36:51.401588Z",
     "shell.execute_reply.started": "2025-07-30T02:36:41.048893Z"
    },
    "trusted": true
   },
   "outputs": [
    {
     "name": "stderr",
     "output_type": "stream",
     "text": [
      "All model checkpoint layers were used when initializing TFPegasusForConditionalGeneration.\n",
      "\n",
      "All the layers of TFPegasusForConditionalGeneration were initialized from the model checkpoint at /kaggle/working/pegasus-finetuned-tf.\n",
      "If your task is similar to the task the model of the checkpoint was trained on, you can already use TFPegasusForConditionalGeneration for predictions without further training.\n",
      "Device set to use 0\n"
     ]
    }
   ],
   "source": [
    "summarizer = pipeline(\"summarization\", model=\"/kaggle/working/pegasus-finetuned-tf\", tokenizer=\"/kaggle/working/pegasus-finetuned-tf\", framework=\"tf\")"
   ]
  },
  {
   "cell_type": "code",
   "execution_count": 44,
   "metadata": {
    "execution": {
     "iopub.execute_input": "2025-07-30T02:40:58.849709Z",
     "iopub.status.busy": "2025-07-30T02:40:58.849395Z",
     "iopub.status.idle": "2025-07-30T02:41:48.398198Z",
     "shell.execute_reply": "2025-07-30T02:41:48.397234Z",
     "shell.execute_reply.started": "2025-07-30T02:40:58.849688Z"
    },
    "trusted": true
   },
   "outputs": [
    {
     "name": "stdout",
     "output_type": "stream",
     "text": [
      "predicted summary:  The Jerdon's Babbler was last spotted in Myanmar in 1941 and was thought to have died out altogether . But a team of scientists managed to uncover multiple birds in a small area of grassland in Myanmar's central Bago region . They used a recording of a Jerdon's Babbler\n",
      "\n",
      "actual summary:  Was last spotted in Burma in 1941,and was thought to have died out .\n",
      "Scientists used a recording of its distinctive call to rediscover species .\n",
      "Discovery proves bird and habitat both still exist in Myanmar .\n",
      "\n",
      "article:  A bird that was long thought to have gone extinct has been rediscovered in Burma after a team of scientists used a recording of the species' distinctive call to track it down. The Jerdon's Babbler (chrysomma altirostre altirostre) - a small brown bird similar in size to a house sparrow - was last spotted in Myanmar in 1941 and was thought to have died out altogether. But a team of scientists managed to uncover multiple birds nesting in a small area of grassland in Myanmar's central Bago region in May last year, according to their report published in the latest edition of Birding Asia. Re-discovered: The Jerdon's Babbler which was thought extinct for 73 years until scientists found evidence of it living in Burma . The scientists targeted some of the few remaining patches of wild grassland left along Myanmar's mighty Irrawaddy river, now one of the most heavily cultivated and densely populated regions of the impoverished but emerging southeast Asian nation. At one small patch of grassland near an abandoned agricultural station, the team heard what they thought could be the babbler's call. They then used a recording of a Jerdon's Babbler from the Indian subcontinent to see if the bird would show itself. Frank Rheindt, from the National University of Singapore, told AFP he was the first person to spot the bird during the survey, which was also carried out with members of the Wildlife Conservation Society and Myanmar's Nature and Wildlife Conservation Division. 'It was unbelievable,' he recalled. 'We played the sound recordings and one of the birds came up from the reed beds. Like many song birds in reed beds you hardly ever see them, they only come out to defend their territory when they hear a territorial call.' Further searches over the next two days uncovered more birds allowing researchers to obtain blood samples and photographs. But researchers warned that the bird's survival is still far from guaranteed given pressure on Myanmar's few remaining grasslands. 'This discovery not only proves that the species still exists in Myanmar but that the habitat can still be found as well,' Colin Poole, director of Wildlife Conservation Society's regional hub in Singapore, said in a statement. 'Future work is needed to identify remaining pockets of natural grassland and develop systems for local communities to conserve and benefit from them,' he added. Birds fly over the Moe Yun Gyi Wetlands in Bago Division, Myanmar, where Jerdon's Babbler was re-discovered 73 years after it was believed to be extinct . Rheindt said the area of grassland where the bird was found was very small, 'around 50-80 hectares' and that new chicken and fish farms were being built nearby. He added that its plumage and song were significantly different to how it had been described by ornithologists in the early twentieth century - leading the team to suspect that it may differ from threatened populations found in Nepal, India and Pakistan. His team now hope to conduct DNA tests to decide if it is a separate species. Burma's quasi-civilian government replaced decades of brutal military rule in 2011. It has since embarked on a series of political reforms and shown itself to be far more open to foreign businesses and academic researchers than the country's generals were. Burma has more species of bird than any other country in mainland Southeast Asia, with ornithologists saying this number is could increase if more scientific research is conducted.\n"
     ]
    }
   ],
   "source": [
    "text = validation_dataset[0]['document']\n",
    "\n",
    "summary = summarizer(text)[0][\"summary_text\"]\n",
    "\n",
    "print('predicted summary: ', summary)\n",
    "print('\\nactual summary: ', validation_dataset[0]['summary'])\n",
    "print('\\narticle: ', text)"
   ]
  },
  {
   "cell_type": "code",
   "execution_count": 53,
   "metadata": {
    "execution": {
     "iopub.execute_input": "2025-07-30T02:58:55.124579Z",
     "iopub.status.busy": "2025-07-30T02:58:55.124247Z",
     "iopub.status.idle": "2025-07-30T02:59:42.283485Z",
     "shell.execute_reply": "2025-07-30T02:59:42.282569Z",
     "shell.execute_reply.started": "2025-07-30T02:58:55.124556Z"
    },
    "trusted": true
   },
   "outputs": [
    {
     "name": "stdout",
     "output_type": "stream",
     "text": [
      "predicted summary:  Balian Sukumaran was diagnosed with terminal liver disease in 2010 . Convicted drug smuggler Andrew Chan offered his own liver up for transplant . Mr Feebrey and Sukumaran are currently on Nusakambangan island, where they await clemency .\n",
      "\n",
      "actual summary:  Pastor Mal Feebrey discovered he had terminal liver disease in 2010 .\n",
      "He had developed a close friendship with Bali Nine kingpin Andrew Chan .\n",
      "When Chan learnt of his condition, he immediately offered his own liver .\n",
      "'He was sort of like, if they want to kill me, then you can have my liver'\n",
      "He received another donation but said he would never forget the gesture .\n",
      "Mr Feebrey said it would be tragic if Chan and Sukumaran were executed .\n",
      "The pair's appeal for clemency will recommence Thursday March 20 .\n",
      "\n",
      "article:  A Sydney pastor has spoken about the incredible moment Bali Nine ringleader Andrew Chan offered a vital piece of himself in a bid to save the man's life. Mal Feebrey, a men's mental health ambassador, had been diagnosed with terminal liver disease in 2010, when the death row inmate, with whom he had formed a close friendship, offered his own liver up for transplant. Chan, who had been in jail for five years at the time, 'knocked' the Assemblies of God minister about when he heard of his friends plight and immediately said, 'have mine'. Scroll down for video . Mal Feebrey (above left), a men's mental health ambassador, had been diagnosed with terminal liver disease in 2010, when Bali Nine kingpin Andrew Chan (above right), with whom he had formed a close friendship, offered his own liver up for transplant . 'It really touched me. Here I am waiting for a donor, I'm dying in front of my wife and kids and here he is going \"my liver's ok, you can have mine\",' Mr Feebrey told The Sydney Morning Herald. 'He was sort of like, if they want to kill me, then you can have my liver. It wasn't a passing-the-time comment, he wanted to make it happen. If he could have pulled it off he would have,' he said. Chan reportedly began making enquiries about whether the organ donation could go ahead, determined to save Mr Feebrey, who shared his Christian faith and had been a regular visitor since his incarceration in 2005. While Mr Feebrey received a liver from another organ donor, he said that the gesture was unforgettable and was characteristic of his 'incredible' friend. Chan and fellow Bali Nine member Myuran Sukumaran are currently being held on Nusakambangan island where they await execution and the outcome of their final appeals for clemency. Mr Feebrey said that when Chan heard the news that his appeal for clemency from Indonesian President Joko Widodo, he was more concerned with the health of a fellow inmate who was in the jail's clinic than himself. 'It was a bit surreal. Andrew took it on the chin and with courage and then he just walked off to go to the clinic to go and see this guy,' Mr Feebrey said . While Mr Feebrey received a liver from another organ donor, he said that the gesture was unforgettable and was characteristic of his 'incredible' friend . The pastor uses his social media accounts to campaign against the executions of the two Australians . Chan and fellow Bali Nine member Myuran Sukumaran are currently being held on Nusakambangan island where they await execution and the outcome of their final appeals for clemency . Mr Feebrey has continued to be in regular contact with Chan, and is an outspoken advocate for the 'I Stand For Mercy Campaign'. The pastor uses his social media accounts to campaign against the executions of the two Australians, and posted on his Instagram account after the Chan heard of his rejected Clemency appeal. 'Just spent the last half an hour with my friend Andrew Chan, when the Australian Consulate Staff notified him that his final appeal against [the] death sentence was rejected,' Mr Feebrey posted. 'He took it on the chin with courage, humility and with a contrite heart.' In February, the pastor posted a 'message of hope' to supporters of Chan on his Instagram account. 'The most beautiful people that I've known are those that have known defeat, known suffering, known struggle, known loss and yet found a way out of these depths,' he posted underneath a photograph of himself with Chan. In February, the pastor posted a 'message of hope' to supporters of Chan on his Instagram account . The men's mental health ambassador said it would be tragic for Chan and Sukumaran, who have worked tirelessly to mentor other prisoners, to be executed. 'Andrew is the idyllic, dream guy to mentor and rehabilitate and a great seed like him – they want to put to death?,' Mr Feebrey asked. Both Chan and Sukumaran have been involved in running education and drug rehabilitation programs inside Kerobokan prison since 2009. New footage has emerged of Sukumaran, shot as a part of a documentary in May last year, of Sukumaran discussing his hopes for the future before his bid for clemency was rejected. 'I think I can do a lot of good on the outside if I ever got free. It's not like I'm just going to go back after all this and just sit and be somewhere,' reported 9news. 'I would want to do stuff like work and make good stuff and help people,' he told Norwegian educator Ivar Schou, who met the Australian while running rehabilitation programs inside the prison. Sukumaran, who now faces the death penalty along with fellow inmate Andrew Chan, said that he believed he had done wrong but that he felt his punishment was too harsh. 'I accept what I did was wrong and I think I should be punished for it,' he said. The pair may be waiting months for their execution as other prisoners pursue lengthy appeals . Myuran Sukumaran, left, and Andrew Chan, right, will be put through an 'assimilation' process as they prepare to face the firing squad . 'But I do think the death penalty is too excessive.' Sukumaran was convicted in 2005 after attempting to smuggle 8.3kg of heroin from Bali to Australia. He has called Kerobokan prison in Bali his home for the past ten years, along with Chan. Sukumaran describes the immense change that he has seen in his life over the past ten years, most notably when he and other inmates were allowed to start education. 'In 2009 they finally gave us permission to start working and doing some projects. Slowly slowly it helped me with my life. It kept me busy. It helped me be productive. I started learning and I was able to help other people learning.' Earlier on Saturday the Indonesian attorney-general Muhammad Prasetyo said that the pair could have their executions delayed for months as other death row inmates take on lengthy court appeals. President Widodo is adamant he will show no leniency to drug offenders caught on his shores . Mr Sukumaran was a highly respected art teacher while he was detained in Kerobokan prison . Mr Praseyto said the execution of the Bali nine duo will take place at the same time as several other foreigners on death row. This could delay the pair's execution as all avenues of legal appeal for the other eight convicted drug offenders must be exhausted before their death sentence can be carried out. The Australian government, alongside several notable public figures, have made repeated pleas to spare the lives of Mr Chan and Mr Sukumaran. Foreign Minister Julie Bishop has written to the Indonesia government offering to cover the cost of life imprisonment for the condemned pair if they agree to call off their executions. Ms Bishop is yet to receive a response.\n"
     ]
    }
   ],
   "source": [
    "text = validation_dataset[1]['document']\n",
    "\n",
    "\n",
    "summary = summarizer(text)[0][\"summary_text\"]\n",
    "\n",
    "print('predicted summary: ', summary)\n",
    "print('\\nactual summary: ', validation_dataset[1]['summary'])\n",
    "print('\\narticle: ', text)"
   ]
  },
  {
   "cell_type": "code",
   "execution_count": 56,
   "metadata": {
    "execution": {
     "iopub.execute_input": "2025-07-30T03:04:50.425841Z",
     "iopub.status.busy": "2025-07-30T03:04:50.425123Z",
     "iopub.status.idle": "2025-07-30T03:05:24.195902Z",
     "shell.execute_reply": "2025-07-30T03:05:24.195032Z",
     "shell.execute_reply.started": "2025-07-30T03:04:50.425815Z"
    },
    "trusted": true
   },
   "outputs": [
    {
     "name": "stdout",
     "output_type": "stream",
     "text": [
      "predicted summary:  Everton and Dynamo Kiev meet in their Europa League last-16 second leg . Toffees players train on the running track surrounding the playing surface . Roberto Martinez says the pitch is a 'concern' for both teams .\n",
      "\n",
      "actual summary:  Everton take on Dynamo Kiev in the Europa League last 16 .\n",
      "The Toffees currently lead the tie 2-1 on aggregate .\n",
      "Martinez says the poor condition of the pitch will cause problems .\n",
      "\n",
      "article:  Everton boss Roberto Martinez feels the poor condition of the pitch at Dynamo Kiev's Olympic Stadium is 'a concern' - but he is sure it will be just as problematic for one side as the other in Thursday's Europa League last-16 second-leg encounter. Rather than training on the pitch at their opponents' stadium as they normally would, Martinez' men did a session on the running track surrounding the playing surface - while the turf was covered by a protective sheet - following their arrival in Ukraine on Wednesday. And when asked about the state of the grass, the Spaniard said at his pre-match press conference: 'The pitch is a concern for both teams. Everton boss Roberto Martinez has expressed concerns over the quality of Dynamo Kiev's pitch . Everton players train ahead of their Europa League round of 16 second-leg with Dynamo Kiev . Everton currently lead the tie 2-1 on aggregate following their win at Goodison Park in the first-leg . With the pitch covered up, Everton players are made to train on the running track that surrounds it . Martinez has warned that the poor quality pitch could be a problem for both Everton and Dynamo Kiev . 'Dynamo Kiev are a technical team and they need a good pitch, and we are exactly the same. 'I don't think it will play a big part in terms of giving a favour or advantage to either of the two sides. 'I think it is a little bit of a shame for the game of football that the pitch is not going to be in perfect condition. 'But you have to adapt to whatever surface you play on.' An Everton coach leads the players in a series of stretches on the running track around the pitch . Leighton Baines (left) stretches alongside Everton team-mate Luke Garbutt at the Olympic Stadium .\n"
     ]
    }
   ],
   "source": [
    "text = validation_dataset[2]['document']\n",
    "\n",
    "summary = summarizer(text)[0][\"summary_text\"]\n",
    "\n",
    "print('predicted summary: ', summary)\n",
    "print('\\nactual summary: ', validation_dataset[2]['summary'])\n",
    "print('\\narticle: ', text)"
   ]
  }
 ],
 "metadata": {
  "kaggle": {
   "accelerator": "nvidiaTeslaT4",
   "dataSources": [
    {
     "datasetId": 1654566,
     "sourceId": 2734496,
     "sourceType": "datasetVersion"
    }
   ],
   "dockerImageVersionId": 31089,
   "isGpuEnabled": true,
   "isInternetEnabled": true,
   "language": "python",
   "sourceType": "notebook"
  },
  "kernelspec": {
   "display_name": "Python 3",
   "language": "python",
   "name": "python3"
  },
  "language_info": {
   "codemirror_mode": {
    "name": "ipython",
    "version": 3
   },
   "file_extension": ".py",
   "mimetype": "text/x-python",
   "name": "python",
   "nbconvert_exporter": "python",
   "pygments_lexer": "ipython3",
   "version": "3.11.13"
  }
 },
 "nbformat": 4,
 "nbformat_minor": 4
}
